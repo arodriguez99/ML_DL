{
 "cells": [
  {
   "cell_type": "markdown",
   "metadata": {
    "id": "-KDQ4GTf9pAB"
   },
   "source": [
    "# Ejercicio Industria 4.0\n",
    "\n",
    "En este ejercicio se intentará obtener unos resultados a partir de un dataset muy famoso de clasificación de música de spotify. Todos los imports necesarios ya estan añadidos en el siguiente código.\n"
   ]
  },
  {
   "cell_type": "code",
   "execution_count": 1,
   "metadata": {
    "vscode": {
     "languageId": "python"
    }
   },
   "outputs": [],
   "source": [
    "import sklearn\n",
    "import pandas as pd\n",
    "from sklearn.svm import SVC\n",
    "import matplotlib.pyplot as plt\n",
    "from sklearn import preprocessing\n",
    "from sklearn.ensemble import RandomForestClassifier\n",
    "from sklearn.model_selection import train_test_split"
   ]
  },
  {
   "cell_type": "markdown",
   "metadata": {},
   "source": [
    "## Paso 1: Leer el dataset"
   ]
  },
  {
   "cell_type": "code",
   "execution_count": 2,
   "metadata": {
    "vscode": {
     "languageId": "python"
    }
   },
   "outputs": [],
   "source": [
    "dataset = pd.read_csv(\"OriginalDataset.csv\")"
   ]
  },
  {
   "cell_type": "markdown",
   "metadata": {},
   "source": [
    "## Paso 2: Revisar los campos"
   ]
  },
  {
   "cell_type": "code",
   "execution_count": 3,
   "metadata": {},
   "outputs": [
    {
     "data": {
      "text/html": [
       "<div>\n",
       "<style scoped>\n",
       "    .dataframe tbody tr th:only-of-type {\n",
       "        vertical-align: middle;\n",
       "    }\n",
       "\n",
       "    .dataframe tbody tr th {\n",
       "        vertical-align: top;\n",
       "    }\n",
       "\n",
       "    .dataframe thead th {\n",
       "        text-align: right;\n",
       "    }\n",
       "</style>\n",
       "<table border=\"1\" class=\"dataframe\">\n",
       "  <thead>\n",
       "    <tr style=\"text-align: right;\">\n",
       "      <th></th>\n",
       "      <th>instance_id</th>\n",
       "      <th>artist_name</th>\n",
       "      <th>track_name</th>\n",
       "      <th>popularity</th>\n",
       "      <th>acousticness</th>\n",
       "      <th>danceability</th>\n",
       "      <th>duration_ms</th>\n",
       "      <th>energy</th>\n",
       "      <th>instrumentalness</th>\n",
       "      <th>key</th>\n",
       "      <th>liveness</th>\n",
       "      <th>loudness</th>\n",
       "      <th>mode</th>\n",
       "      <th>speechiness</th>\n",
       "      <th>tempo</th>\n",
       "      <th>obtained_date</th>\n",
       "      <th>valence</th>\n",
       "      <th>music_genre</th>\n",
       "    </tr>\n",
       "  </thead>\n",
       "  <tbody>\n",
       "    <tr>\n",
       "      <th>0</th>\n",
       "      <td>32894.0</td>\n",
       "      <td>Röyksopp</td>\n",
       "      <td>Röyksopp's Night Out</td>\n",
       "      <td>27.0</td>\n",
       "      <td>0.00468</td>\n",
       "      <td>0.652</td>\n",
       "      <td>-1.0</td>\n",
       "      <td>0.941</td>\n",
       "      <td>0.79200</td>\n",
       "      <td>A#</td>\n",
       "      <td>0.115</td>\n",
       "      <td>-5.201</td>\n",
       "      <td>Minor</td>\n",
       "      <td>0.0748</td>\n",
       "      <td>100.889</td>\n",
       "      <td>4-Apr</td>\n",
       "      <td>0.759</td>\n",
       "      <td>Electronic</td>\n",
       "    </tr>\n",
       "    <tr>\n",
       "      <th>1</th>\n",
       "      <td>46652.0</td>\n",
       "      <td>Thievery Corporation</td>\n",
       "      <td>The Shining Path</td>\n",
       "      <td>31.0</td>\n",
       "      <td>0.01270</td>\n",
       "      <td>0.622</td>\n",
       "      <td>218293.0</td>\n",
       "      <td>0.890</td>\n",
       "      <td>0.95000</td>\n",
       "      <td>D</td>\n",
       "      <td>0.124</td>\n",
       "      <td>-7.043</td>\n",
       "      <td>Minor</td>\n",
       "      <td>0.0300</td>\n",
       "      <td>115.00200000000001</td>\n",
       "      <td>4-Apr</td>\n",
       "      <td>0.531</td>\n",
       "      <td>Electronic</td>\n",
       "    </tr>\n",
       "    <tr>\n",
       "      <th>2</th>\n",
       "      <td>30097.0</td>\n",
       "      <td>Dillon Francis</td>\n",
       "      <td>Hurricane</td>\n",
       "      <td>28.0</td>\n",
       "      <td>0.00306</td>\n",
       "      <td>0.620</td>\n",
       "      <td>215613.0</td>\n",
       "      <td>0.755</td>\n",
       "      <td>0.01180</td>\n",
       "      <td>G#</td>\n",
       "      <td>0.534</td>\n",
       "      <td>-4.617</td>\n",
       "      <td>Major</td>\n",
       "      <td>0.0345</td>\n",
       "      <td>127.994</td>\n",
       "      <td>4-Apr</td>\n",
       "      <td>0.333</td>\n",
       "      <td>Electronic</td>\n",
       "    </tr>\n",
       "    <tr>\n",
       "      <th>3</th>\n",
       "      <td>62177.0</td>\n",
       "      <td>Dubloadz</td>\n",
       "      <td>Nitro</td>\n",
       "      <td>34.0</td>\n",
       "      <td>0.02540</td>\n",
       "      <td>0.774</td>\n",
       "      <td>166875.0</td>\n",
       "      <td>0.700</td>\n",
       "      <td>0.00253</td>\n",
       "      <td>C#</td>\n",
       "      <td>0.157</td>\n",
       "      <td>-4.498</td>\n",
       "      <td>Major</td>\n",
       "      <td>0.2390</td>\n",
       "      <td>128.014</td>\n",
       "      <td>4-Apr</td>\n",
       "      <td>0.270</td>\n",
       "      <td>Electronic</td>\n",
       "    </tr>\n",
       "    <tr>\n",
       "      <th>4</th>\n",
       "      <td>24907.0</td>\n",
       "      <td>What So Not</td>\n",
       "      <td>Divide &amp; Conquer</td>\n",
       "      <td>32.0</td>\n",
       "      <td>0.00465</td>\n",
       "      <td>0.638</td>\n",
       "      <td>222369.0</td>\n",
       "      <td>0.587</td>\n",
       "      <td>0.90900</td>\n",
       "      <td>F#</td>\n",
       "      <td>0.157</td>\n",
       "      <td>-6.266</td>\n",
       "      <td>Major</td>\n",
       "      <td>0.0413</td>\n",
       "      <td>145.036</td>\n",
       "      <td>4-Apr</td>\n",
       "      <td>0.323</td>\n",
       "      <td>Electronic</td>\n",
       "    </tr>\n",
       "  </tbody>\n",
       "</table>\n",
       "</div>"
      ],
      "text/plain": [
       "   instance_id           artist_name            track_name  popularity  \\\n",
       "0      32894.0              Röyksopp  Röyksopp's Night Out        27.0   \n",
       "1      46652.0  Thievery Corporation      The Shining Path        31.0   \n",
       "2      30097.0        Dillon Francis             Hurricane        28.0   \n",
       "3      62177.0              Dubloadz                 Nitro        34.0   \n",
       "4      24907.0           What So Not      Divide & Conquer        32.0   \n",
       "\n",
       "   acousticness  danceability  duration_ms  energy  instrumentalness key  \\\n",
       "0       0.00468         0.652         -1.0   0.941           0.79200  A#   \n",
       "1       0.01270         0.622     218293.0   0.890           0.95000   D   \n",
       "2       0.00306         0.620     215613.0   0.755           0.01180  G#   \n",
       "3       0.02540         0.774     166875.0   0.700           0.00253  C#   \n",
       "4       0.00465         0.638     222369.0   0.587           0.90900  F#   \n",
       "\n",
       "   liveness  loudness   mode  speechiness               tempo obtained_date  \\\n",
       "0     0.115    -5.201  Minor       0.0748             100.889         4-Apr   \n",
       "1     0.124    -7.043  Minor       0.0300  115.00200000000001         4-Apr   \n",
       "2     0.534    -4.617  Major       0.0345             127.994         4-Apr   \n",
       "3     0.157    -4.498  Major       0.2390             128.014         4-Apr   \n",
       "4     0.157    -6.266  Major       0.0413             145.036         4-Apr   \n",
       "\n",
       "   valence music_genre  \n",
       "0    0.759  Electronic  \n",
       "1    0.531  Electronic  \n",
       "2    0.333  Electronic  \n",
       "3    0.270  Electronic  \n",
       "4    0.323  Electronic  "
      ]
     },
     "execution_count": 3,
     "metadata": {},
     "output_type": "execute_result"
    }
   ],
   "source": [
    "dataset.head()"
   ]
  },
  {
   "cell_type": "markdown",
   "metadata": {},
   "source": [
    "## Paso 3: Eliminar filas no utiles + filas con nulos"
   ]
  },
  {
   "cell_type": "code",
   "execution_count": 4,
   "metadata": {},
   "outputs": [],
   "source": [
    "dataset = dataset.drop(columns=[\"instance_id\", \"artist_name\", \"track_name\", \"obtained_date\"], inplace=False)\n",
    "dataset = dataset.dropna()\n",
    "dataset = dataset[~dataset.apply(lambda row: '?' in row.values, axis=1)]\n",
    "# Coger el numero de clases\n",
    "nClases = len(dataset.music_genre.unique())"
   ]
  },
  {
   "cell_type": "markdown",
   "metadata": {},
   "source": [
    "## Paso 4: Transformar columnas categoricas en numericas"
   ]
  },
  {
   "cell_type": "code",
   "execution_count": 5,
   "metadata": {},
   "outputs": [],
   "source": [
    "dataset = pd.get_dummies(dataset, columns=[\"mode\",\"key\"])"
   ]
  },
  {
   "cell_type": "markdown",
   "metadata": {},
   "source": [
    "## Paso 5: Extraer la columna objetivo"
   ]
  },
  {
   "cell_type": "code",
   "execution_count": 6,
   "metadata": {},
   "outputs": [],
   "source": [
    "targetCol = 'music_genre'\n",
    "Y = dataset[targetCol]\n",
    "X = dataset.drop([targetCol],axis=1)"
   ]
  },
  {
   "cell_type": "markdown",
   "metadata": {},
   "source": [
    "## Paso 6: Particionar entre train i test"
   ]
  },
  {
   "cell_type": "code",
   "execution_count": 7,
   "metadata": {},
   "outputs": [],
   "source": [
    "X_train, X_test, Y_train, Y_test = train_test_split(X, Y, test_size=0.25, shuffle=True, stratify=Y)"
   ]
  },
  {
   "cell_type": "markdown",
   "metadata": {},
   "source": [
    "## Paso 7: Normalizar los datos"
   ]
  },
  {
   "cell_type": "code",
   "execution_count": 8,
   "metadata": {},
   "outputs": [],
   "source": [
    "scaler = preprocessing.StandardScaler().fit(X_train)\n",
    "X_train = scaler.transform(X_train)\n",
    "X_test = scaler.transform(X_test)"
   ]
  },
  {
   "cell_type": "markdown",
   "metadata": {},
   "source": [
    "## Paso 8: Seleccionar y probar modelos"
   ]
  },
  {
   "cell_type": "markdown",
   "metadata": {},
   "source": [
    "### SVM's"
   ]
  },
  {
   "cell_type": "code",
   "execution_count": 9,
   "metadata": {},
   "outputs": [
    {
     "name": "stdout",
     "output_type": "stream",
     "text": [
      "[[388   3  24   3 201  66 131  52  36 220]\n",
      " [ 39 761  84 109  45  46   2  31   2   5]\n",
      " [ 51 121 590  16 107  44   2 139   1  47]\n",
      " [ 27  57  23 929   5  17   0  63   0   4]\n",
      " [ 77  21  81   0 621  32  31  57   8 194]\n",
      " [ 83  66  51  11  43 649  43 123  22  25]\n",
      " [ 50   0   4   0  28  14 635  10 325  64]\n",
      " [ 45  22 131  75  72 153  45 535   2  50]\n",
      " [ 64   0   1   0  17   8 539  10 346 141]\n",
      " [124   2   7   3 104  11  32  37  60 760]]\n",
      "0.5521101732563305\n",
      "              precision    recall  f1-score   support\n",
      "\n",
      " Alternative       0.41      0.35      0.37      1124\n",
      "       Anime       0.72      0.68      0.70      1124\n",
      "       Blues       0.59      0.53      0.56      1118\n",
      "   Classical       0.81      0.83      0.82      1125\n",
      "     Country       0.50      0.55      0.53      1122\n",
      "  Electronic       0.62      0.58      0.60      1116\n",
      "     Hip-Hop       0.43      0.56      0.49      1130\n",
      "        Jazz       0.51      0.47      0.49      1130\n",
      "         Rap       0.43      0.31      0.36      1126\n",
      "        Rock       0.50      0.67      0.57      1140\n",
      "\n",
      "    accuracy                           0.55     11255\n",
      "   macro avg       0.55      0.55      0.55     11255\n",
      "weighted avg       0.55      0.55      0.55     11255\n",
      "\n"
     ]
    }
   ],
   "source": [
    "# Probar los kernels 'linear' y 'rbf'. Este último es más lento.\n",
    "knc = SVC(kernel='linear')\n",
    "knc.fit(X_train,Y_train)\n",
    "pred = knc.predict(X_test)\n",
    "print(sklearn.metrics.confusion_matrix(Y_test,pred))\n",
    "print(sklearn.metrics.accuracy_score(Y_test,pred))\n",
    "print(sklearn.metrics.classification_report(Y_test,pred))"
   ]
  },
  {
   "cell_type": "markdown",
   "metadata": {},
   "source": [
    "### Random forest"
   ]
  },
  {
   "cell_type": "code",
   "execution_count": 10,
   "metadata": {},
   "outputs": [
    {
     "name": "stdout",
     "output_type": "stream",
     "text": [
      "[[380  10  32   5 157  56 103  69  57 255]\n",
      " [ 38 817  61  99  37  41   2  22   0   7]\n",
      " [ 54  98 624  17  79  53   3 135   1  54]\n",
      " [ 23  37  22 959   7  15   0  57   0   5]\n",
      " [ 76  17  58   1 659  12  14  48  31 206]\n",
      " [ 66  53  72   9  24 674  19 141  14  44]\n",
      " [ 64   1   2   0  15  11 445  12 538  42]\n",
      " [ 39  12 124  67  53 155  22 598  10  50]\n",
      " [ 61   0   1   0  15   3 621   9 317  99]\n",
      " [163   1  26   3 108  11  36  33  64 695]]\n",
      "0.5480231008440694\n",
      "              precision    recall  f1-score   support\n",
      "\n",
      " Alternative       0.39      0.34      0.36      1124\n",
      "       Anime       0.78      0.73      0.75      1124\n",
      "       Blues       0.61      0.56      0.58      1118\n",
      "   Classical       0.83      0.85      0.84      1125\n",
      "     Country       0.57      0.59      0.58      1122\n",
      "  Electronic       0.65      0.60      0.63      1116\n",
      "     Hip-Hop       0.35      0.39      0.37      1130\n",
      "        Jazz       0.53      0.53      0.53      1130\n",
      "         Rap       0.31      0.28      0.29      1126\n",
      "        Rock       0.48      0.61      0.54      1140\n",
      "\n",
      "    accuracy                           0.55     11255\n",
      "   macro avg       0.55      0.55      0.55     11255\n",
      "weighted avg       0.55      0.55      0.55     11255\n",
      "\n"
     ]
    }
   ],
   "source": [
    "rf = RandomForestClassifier()\n",
    "rf.fit(X_train,Y_train)\n",
    "pred = rf.predict(X_test)\n",
    "print(sklearn.metrics.confusion_matrix(Y_test,pred))\n",
    "print(sklearn.metrics.accuracy_score(Y_test,pred))\n",
    "print(sklearn.metrics.classification_report(Y_test,pred))"
   ]
  },
  {
   "cell_type": "markdown",
   "metadata": {},
   "source": [
    "### Redes neuronales\n",
    "\n",
    "Primero de todo hay que convertir la salida con One Hot Encoding."
   ]
  },
  {
   "cell_type": "code",
   "execution_count": 11,
   "metadata": {},
   "outputs": [],
   "source": [
    "Y_train = pd.get_dummies(pd.DataFrame(Y_train))\n",
    "Y_test = pd.get_dummies(pd.DataFrame(Y_test))"
   ]
  },
  {
   "cell_type": "markdown",
   "metadata": {},
   "source": [
    "Crea una red neuronal con 3 capas internas. La primera de ellas con 128 neuronas, la segunda con 64 y la tercera con 32. Recuerda terminar con una capa con el valor a clasificar."
   ]
  },
  {
   "cell_type": "code",
   "execution_count": 12,
   "metadata": {},
   "outputs": [
    {
     "name": "stdout",
     "output_type": "stream",
     "text": [
      "Model: \"sequential\"\n",
      "_________________________________________________________________\n",
      " Layer (type)                Output Shape              Param #   \n",
      "=================================================================\n",
      " dense (Dense)               (None, 128)               3328      \n",
      "                                                                 \n",
      " dense_1 (Dense)             (None, 64)                8256      \n",
      "                                                                 \n",
      " dense_2 (Dense)             (None, 10)                650       \n",
      "                                                                 \n",
      "=================================================================\n",
      "Total params: 12,234\n",
      "Trainable params: 12,234\n",
      "Non-trainable params: 0\n",
      "_________________________________________________________________\n"
     ]
    }
   ],
   "source": [
    "from tensorflow.keras.models import Sequential\n",
    "from tensorflow.keras.layers import Dense\n",
    "\n",
    "model = Sequential()\n",
    "model.add(Dense(128, input_shape=(len(X.columns), ), activation='linear'))\n",
    "model.add(Dense(64, activation='linear'))\n",
    "model.add(Dense(nClases, activation='linear'))\n",
    "model.compile(optimizer='adam', loss='categorical_crossentropy', metrics=['accuracy'])\n",
    "model.summary()"
   ]
  },
  {
   "cell_type": "markdown",
   "metadata": {},
   "source": [
    "Entrena durante 15 epocas con una partición de validación de 0.1."
   ]
  },
  {
   "cell_type": "code",
   "execution_count": 13,
   "metadata": {
    "tags": []
   },
   "outputs": [
    {
     "name": "stdout",
     "output_type": "stream",
     "text": [
      "Epoch 1/15\n",
      "950/950 [==============================] - 2s 1ms/step - loss: 5.4305 - accuracy: 0.0933 - val_loss: 5.0139 - val_accuracy: 0.0924\n",
      "Epoch 2/15\n",
      "950/950 [==============================] - 1s 1ms/step - loss: 4.3062 - accuracy: 0.0864 - val_loss: 3.6757 - val_accuracy: 0.0897\n",
      "Epoch 3/15\n",
      "950/950 [==============================] - 1s 1ms/step - loss: 3.5235 - accuracy: 0.0885 - val_loss: 3.3494 - val_accuracy: 0.0832\n",
      "Epoch 4/15\n",
      "950/950 [==============================] - 1s 1ms/step - loss: 3.2590 - accuracy: 0.0814 - val_loss: 3.0421 - val_accuracy: 0.0758\n",
      "Epoch 5/15\n",
      "950/950 [==============================] - 1s 1ms/step - loss: 3.0164 - accuracy: 0.0722 - val_loss: 2.8891 - val_accuracy: 0.0714\n",
      "Epoch 6/15\n",
      "950/950 [==============================] - 1s 1ms/step - loss: 2.8999 - accuracy: 0.0645 - val_loss: 2.8689 - val_accuracy: 0.0566\n",
      "Epoch 7/15\n",
      "950/950 [==============================] - 1s 1ms/step - loss: 2.8032 - accuracy: 0.0524 - val_loss: 2.6582 - val_accuracy: 0.0557\n",
      "Epoch 8/15\n",
      "950/950 [==============================] - 1s 1ms/step - loss: 2.6281 - accuracy: 0.0688 - val_loss: 2.6331 - val_accuracy: 0.0672\n",
      "Epoch 9/15\n",
      "950/950 [==============================] - 1s 1ms/step - loss: 2.5946 - accuracy: 0.0681 - val_loss: 2.5326 - val_accuracy: 0.0802\n",
      "Epoch 10/15\n",
      "950/950 [==============================] - 1s 1ms/step - loss: 2.5256 - accuracy: 0.0775 - val_loss: 2.4651 - val_accuracy: 0.0761\n",
      "Epoch 11/15\n",
      "950/950 [==============================] - 1s 1ms/step - loss: 2.5373 - accuracy: 0.0595 - val_loss: 2.5041 - val_accuracy: 0.0477\n",
      "Epoch 12/15\n",
      "950/950 [==============================] - 1s 1ms/step - loss: 2.5005 - accuracy: 0.0562 - val_loss: 2.5213 - val_accuracy: 0.0681\n",
      "Epoch 13/15\n",
      "950/950 [==============================] - 1s 1ms/step - loss: 2.5132 - accuracy: 0.0665 - val_loss: 2.5085 - val_accuracy: 0.0613\n",
      "Epoch 14/15\n",
      "950/950 [==============================] - 1s 1ms/step - loss: 2.5143 - accuracy: 0.0656 - val_loss: 2.5554 - val_accuracy: 0.0684\n",
      "Epoch 15/15\n",
      "950/950 [==============================] - 1s 1ms/step - loss: 2.5369 - accuracy: 0.0760 - val_loss: 2.5229 - val_accuracy: 0.0764\n"
     ]
    }
   ],
   "source": [
    "epochs = 15\n",
    "validation_split = 0.10\n",
    "history = model.fit(X_train, Y_train, epochs=epochs, validation_split=validation_split)"
   ]
  },
  {
   "cell_type": "markdown",
   "metadata": {},
   "source": [
    "### Parece que functiona muy mal. A que se debe esto?\n",
    "Las capas no tienen activación == activación linear."
   ]
  },
  {
   "cell_type": "markdown",
   "metadata": {},
   "source": [
    "Prueba a cambiar las functiones de activation de la red para que sean dos relu al principio y una softmax al final."
   ]
  },
  {
   "cell_type": "code",
   "execution_count": 14,
   "metadata": {},
   "outputs": [
    {
     "name": "stdout",
     "output_type": "stream",
     "text": [
      "Model: \"sequential_1\"\n",
      "_________________________________________________________________\n",
      " Layer (type)                Output Shape              Param #   \n",
      "=================================================================\n",
      " dense_3 (Dense)             (None, 128)               3328      \n",
      "                                                                 \n",
      " dense_4 (Dense)             (None, 64)                8256      \n",
      "                                                                 \n",
      " dense_5 (Dense)             (None, 10)                650       \n",
      "                                                                 \n",
      "=================================================================\n",
      "Total params: 12,234\n",
      "Trainable params: 12,234\n",
      "Non-trainable params: 0\n",
      "_________________________________________________________________\n"
     ]
    }
   ],
   "source": [
    "from tensorflow.keras.models import Sequential\n",
    "from tensorflow.keras.layers import Dense\n",
    "\n",
    "model = Sequential()\n",
    "model.add(Dense(128, input_shape=(len(X.columns), ), activation='relu'))\n",
    "model.add(Dense(64, activation='relu'))\n",
    "model.add(Dense(nClases, activation='softmax'))\n",
    "model.compile(optimizer='adam', loss='categorical_crossentropy', metrics=['accuracy'])\n",
    "model.summary()"
   ]
  },
  {
   "cell_type": "markdown",
   "metadata": {},
   "source": [
    "Entrena durante 50 epocas con una partición de validación de 0.1."
   ]
  },
  {
   "cell_type": "code",
   "execution_count": 15,
   "metadata": {},
   "outputs": [
    {
     "name": "stdout",
     "output_type": "stream",
     "text": [
      "Epoch 1/50\n",
      "950/950 [==============================] - 2s 1ms/step - loss: 1.3555 - accuracy: 0.4903 - val_loss: 1.2218 - val_accuracy: 0.5327\n",
      "Epoch 2/50\n",
      "950/950 [==============================] - 1s 972us/step - loss: 1.1872 - accuracy: 0.5490 - val_loss: 1.1885 - val_accuracy: 0.5383\n",
      "Epoch 3/50\n",
      "950/950 [==============================] - 1s 988us/step - loss: 1.1494 - accuracy: 0.5583 - val_loss: 1.1701 - val_accuracy: 0.5455\n",
      "Epoch 4/50\n",
      "950/950 [==============================] - 1s 982us/step - loss: 1.1283 - accuracy: 0.5654 - val_loss: 1.1594 - val_accuracy: 0.5460\n",
      "Epoch 5/50\n",
      "950/950 [==============================] - 1s 1ms/step - loss: 1.1122 - accuracy: 0.5716 - val_loss: 1.1507 - val_accuracy: 0.5523\n",
      "Epoch 6/50\n",
      "950/950 [==============================] - 1s 1ms/step - loss: 1.0987 - accuracy: 0.5769 - val_loss: 1.1491 - val_accuracy: 0.5422\n",
      "Epoch 7/50\n",
      "950/950 [==============================] - 1s 1ms/step - loss: 1.0861 - accuracy: 0.5807 - val_loss: 1.1392 - val_accuracy: 0.5558\n",
      "Epoch 8/50\n",
      "950/950 [==============================] - 1s 1ms/step - loss: 1.0752 - accuracy: 0.5836 - val_loss: 1.1412 - val_accuracy: 0.5546\n",
      "Epoch 9/50\n",
      "950/950 [==============================] - 1s 993us/step - loss: 1.0644 - accuracy: 0.5890 - val_loss: 1.1435 - val_accuracy: 0.5529\n",
      "Epoch 10/50\n",
      "950/950 [==============================] - 1s 985us/step - loss: 1.0539 - accuracy: 0.5912 - val_loss: 1.1423 - val_accuracy: 0.5543\n",
      "Epoch 11/50\n",
      "950/950 [==============================] - 1s 986us/step - loss: 1.0444 - accuracy: 0.5919 - val_loss: 1.1359 - val_accuracy: 0.5641\n",
      "Epoch 12/50\n",
      "950/950 [==============================] - 1s 983us/step - loss: 1.0351 - accuracy: 0.5987 - val_loss: 1.1227 - val_accuracy: 0.5520\n",
      "Epoch 13/50\n",
      "950/950 [==============================] - 1s 985us/step - loss: 1.0256 - accuracy: 0.5988 - val_loss: 1.1419 - val_accuracy: 0.5493\n",
      "Epoch 14/50\n",
      "950/950 [==============================] - 1s 982us/step - loss: 1.0178 - accuracy: 0.6019 - val_loss: 1.1311 - val_accuracy: 0.5597\n",
      "Epoch 15/50\n",
      "950/950 [==============================] - 1s 981us/step - loss: 1.0115 - accuracy: 0.6069 - val_loss: 1.1255 - val_accuracy: 0.5629\n",
      "Epoch 16/50\n",
      "950/950 [==============================] - 1s 985us/step - loss: 1.0048 - accuracy: 0.6076 - val_loss: 1.1578 - val_accuracy: 0.5573\n",
      "Epoch 17/50\n",
      "950/950 [==============================] - 1s 979us/step - loss: 0.9993 - accuracy: 0.6112 - val_loss: 1.1349 - val_accuracy: 0.5603\n",
      "Epoch 18/50\n",
      "950/950 [==============================] - 1s 1ms/step - loss: 0.9908 - accuracy: 0.6111 - val_loss: 1.1367 - val_accuracy: 0.5529\n",
      "Epoch 19/50\n",
      "950/950 [==============================] - 1s 978us/step - loss: 0.9857 - accuracy: 0.6150 - val_loss: 1.1297 - val_accuracy: 0.5617\n",
      "Epoch 20/50\n",
      "950/950 [==============================] - 1s 987us/step - loss: 0.9808 - accuracy: 0.6156 - val_loss: 1.1288 - val_accuracy: 0.5730\n",
      "Epoch 21/50\n",
      "950/950 [==============================] - 1s 981us/step - loss: 0.9762 - accuracy: 0.6135 - val_loss: 1.1378 - val_accuracy: 0.5564\n",
      "Epoch 22/50\n",
      "950/950 [==============================] - 1s 1ms/step - loss: 0.9724 - accuracy: 0.6183 - val_loss: 1.1458 - val_accuracy: 0.5546\n",
      "Epoch 23/50\n",
      "950/950 [==============================] - 1s 1ms/step - loss: 0.9654 - accuracy: 0.6222 - val_loss: 1.1362 - val_accuracy: 0.5523\n",
      "Epoch 24/50\n",
      "950/950 [==============================] - 1s 1000us/step - loss: 0.9628 - accuracy: 0.6219 - val_loss: 1.1461 - val_accuracy: 0.5552\n",
      "Epoch 25/50\n",
      "950/950 [==============================] - 1s 988us/step - loss: 0.9582 - accuracy: 0.6243 - val_loss: 1.1377 - val_accuracy: 0.5570\n",
      "Epoch 26/50\n",
      "950/950 [==============================] - 1s 995us/step - loss: 0.9545 - accuracy: 0.6263 - val_loss: 1.1454 - val_accuracy: 0.5582\n",
      "Epoch 27/50\n",
      "950/950 [==============================] - 1s 977us/step - loss: 0.9507 - accuracy: 0.6278 - val_loss: 1.1503 - val_accuracy: 0.5561\n",
      "Epoch 28/50\n",
      "950/950 [==============================] - 1s 992us/step - loss: 0.9464 - accuracy: 0.6294 - val_loss: 1.1487 - val_accuracy: 0.5508\n",
      "Epoch 29/50\n",
      "950/950 [==============================] - 1s 980us/step - loss: 0.9437 - accuracy: 0.6311 - val_loss: 1.1518 - val_accuracy: 0.5543\n",
      "Epoch 30/50\n",
      "950/950 [==============================] - 1s 978us/step - loss: 0.9401 - accuracy: 0.6323 - val_loss: 1.1464 - val_accuracy: 0.5579\n",
      "Epoch 31/50\n",
      "950/950 [==============================] - 1s 978us/step - loss: 0.9352 - accuracy: 0.6317 - val_loss: 1.1651 - val_accuracy: 0.5434\n",
      "Epoch 32/50\n",
      "950/950 [==============================] - 1s 995us/step - loss: 0.9334 - accuracy: 0.6310 - val_loss: 1.1576 - val_accuracy: 0.5582\n",
      "Epoch 33/50\n",
      "950/950 [==============================] - 1s 1ms/step - loss: 0.9285 - accuracy: 0.6348 - val_loss: 1.1626 - val_accuracy: 0.5534\n",
      "Epoch 34/50\n",
      "950/950 [==============================] - 1s 979us/step - loss: 0.9260 - accuracy: 0.6377 - val_loss: 1.1612 - val_accuracy: 0.5487\n",
      "Epoch 35/50\n",
      "950/950 [==============================] - 1s 978us/step - loss: 0.9232 - accuracy: 0.6376 - val_loss: 1.1701 - val_accuracy: 0.5401\n",
      "Epoch 36/50\n",
      "950/950 [==============================] - 1s 976us/step - loss: 0.9205 - accuracy: 0.6394 - val_loss: 1.1750 - val_accuracy: 0.5493\n",
      "Epoch 37/50\n",
      "950/950 [==============================] - 1s 982us/step - loss: 0.9180 - accuracy: 0.6378 - val_loss: 1.1604 - val_accuracy: 0.5526\n",
      "Epoch 38/50\n",
      "950/950 [==============================] - 1s 980us/step - loss: 0.9131 - accuracy: 0.6421 - val_loss: 1.1702 - val_accuracy: 0.5478\n",
      "Epoch 39/50\n",
      "950/950 [==============================] - 1s 1ms/step - loss: 0.9117 - accuracy: 0.6401 - val_loss: 1.1789 - val_accuracy: 0.5440\n",
      "Epoch 40/50\n",
      "950/950 [==============================] - 1s 1ms/step - loss: 0.9093 - accuracy: 0.6423 - val_loss: 1.1679 - val_accuracy: 0.5466\n",
      "Epoch 41/50\n",
      "950/950 [==============================] - 1s 998us/step - loss: 0.9075 - accuracy: 0.6441 - val_loss: 1.1802 - val_accuracy: 0.5484\n",
      "Epoch 42/50\n",
      "950/950 [==============================] - 1s 978us/step - loss: 0.9037 - accuracy: 0.6452 - val_loss: 1.1836 - val_accuracy: 0.5455\n",
      "Epoch 43/50\n",
      "950/950 [==============================] - 1s 978us/step - loss: 0.9004 - accuracy: 0.6428 - val_loss: 1.1889 - val_accuracy: 0.5416\n",
      "Epoch 44/50\n",
      "950/950 [==============================] - 1s 969us/step - loss: 0.8977 - accuracy: 0.6452 - val_loss: 1.1944 - val_accuracy: 0.5431\n",
      "Epoch 45/50\n",
      "950/950 [==============================] - 1s 994us/step - loss: 0.8938 - accuracy: 0.6483 - val_loss: 1.2024 - val_accuracy: 0.5336\n",
      "Epoch 46/50\n",
      "950/950 [==============================] - 1s 984us/step - loss: 0.8918 - accuracy: 0.6494 - val_loss: 1.2036 - val_accuracy: 0.5363\n",
      "Epoch 47/50\n",
      "950/950 [==============================] - 1s 983us/step - loss: 0.8916 - accuracy: 0.6472 - val_loss: 1.2037 - val_accuracy: 0.5336\n",
      "Epoch 48/50\n",
      "950/950 [==============================] - 1s 977us/step - loss: 0.8890 - accuracy: 0.6509 - val_loss: 1.1959 - val_accuracy: 0.5431\n",
      "Epoch 49/50\n",
      "950/950 [==============================] - 1s 982us/step - loss: 0.8850 - accuracy: 0.6489 - val_loss: 1.1957 - val_accuracy: 0.5443\n",
      "Epoch 50/50\n",
      "950/950 [==============================] - 1s 973us/step - loss: 0.8837 - accuracy: 0.6509 - val_loss: 1.2081 - val_accuracy: 0.5372\n"
     ]
    }
   ],
   "source": [
    "epochs = 50\n",
    "validation_split = 0.10\n",
    "history = model.fit(X_train, Y_train, epochs=epochs, validation_split=validation_split)"
   ]
  },
  {
   "cell_type": "markdown",
   "metadata": {},
   "source": [
    "## Enseña las curvas de aprendizaje"
   ]
  },
  {
   "cell_type": "code",
   "execution_count": 16,
   "metadata": {},
   "outputs": [
    {
     "data": {
      "image/png": "[encoded data removed]",
      "text/plain": [
       "<Figure size 1500x1000 with 1 Axes>"
      ]
     },
     "metadata": {},
     "output_type": "display_data"
    }
   ],
   "source": [
    "plt.figure(figsize=(15,10))\n",
    "plt.plot(history.history['loss'], label=\"Training loss\")\n",
    "plt.plot(history.history['val_loss'], label=\"Validation loss\")\n",
    "plt.legend()\n",
    "plt.show()"
   ]
  },
  {
   "cell_type": "code",
   "execution_count": 17,
   "metadata": {},
   "outputs": [
    {
     "data": {
      "image/png": "[encoded data removed]",
      "text/plain": [
       "<Figure size 1500x1000 with 1 Axes>"
      ]
     },
     "metadata": {},
     "output_type": "display_data"
    }
   ],
   "source": [
    "plt.figure(figsize=(15,10))\n",
    "plt.plot(history.history['accuracy'], label=\"Training accuracy\")\n",
    "plt.plot(history.history['val_accuracy'], label=\"Validation accuracy\")\n",
    "plt.legend()\n",
    "plt.show()"
   ]
  },
  {
   "cell_type": "markdown",
   "metadata": {},
   "source": [
    "## Evaluar el modelo"
   ]
  },
  {
   "cell_type": "code",
   "execution_count": 18,
   "metadata": {},
   "outputs": [
    {
     "name": "stdout",
     "output_type": "stream",
     "text": [
      "352/352 [==============================] - 0s 661us/step\n",
      "[[382  17  32  10 182  87  98  35  73 208]\n",
      " [ 31 794  91  82  29  64   2  24   1   6]\n",
      " [ 51  92 588  30 109  70   6 125   1  46]\n",
      " [ 20  61  23 944   4  24   0  45   0   4]\n",
      " [ 79  20  83   2 649  34  29  48  19 159]\n",
      " [ 60  65  80  13  35 678  24 104  30  27]\n",
      " [ 48   0   4   1  13  27 656   8 327  46]\n",
      " [ 66  21 129  87  68 172  27 502   5  53]\n",
      " [ 48   1   0   0  14  16 617   4 339  87]\n",
      " [110   2  16   4 137  18  52  22 115 664]]\n",
      "0.5505108840515327\n",
      "              precision    recall  f1-score   support\n",
      "\n",
      "           0       0.43      0.34      0.38      1124\n",
      "           1       0.74      0.71      0.72      1124\n",
      "           2       0.56      0.53      0.54      1118\n",
      "           3       0.80      0.84      0.82      1125\n",
      "           4       0.52      0.58      0.55      1122\n",
      "           5       0.57      0.61      0.59      1116\n",
      "           6       0.43      0.58      0.50      1130\n",
      "           7       0.55      0.44      0.49      1130\n",
      "           8       0.37      0.30      0.33      1126\n",
      "           9       0.51      0.58      0.54      1140\n",
      "\n",
      "    accuracy                           0.55     11255\n",
      "   macro avg       0.55      0.55      0.55     11255\n",
      "weighted avg       0.55      0.55      0.55     11255\n",
      "\n"
     ]
    }
   ],
   "source": [
    "pred = model.predict(X_test)\n",
    "import numpy as np\n",
    "pred = np.argmax(pred, axis=1)\n",
    "y_test = np.argmax(Y_test.values, axis=1)\n",
    "print(sklearn.metrics.confusion_matrix(y_test,pred))\n",
    "print(sklearn.metrics.accuracy_score(y_test,pred))\n",
    "print(sklearn.metrics.classification_report(y_test,pred))"
   ]
  }
 ],
 "metadata": {
  "accelerator": "GPU",
  "colab": {
   "name": "1 - Deep Learning - Regressor.ipynb",
   "provenance": []
  },
  "kernelspec": {
   "display_name": "Python 3 (ipykernel)",
   "language": "python",
   "name": "python3"
  },
  "language_info": {
   "codemirror_mode": {
    "name": "ipython",
    "version": 3
   },
   "file_extension": ".py",
   "mimetype": "text/x-python",
   "name": "python",
   "nbconvert_exporter": "python",
   "pygments_lexer": "ipython3",
   "version": "3.9.13"
  }
 },
 "nbformat": 4,
 "nbformat_minor": 4
}
