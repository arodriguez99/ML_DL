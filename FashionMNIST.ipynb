{
  "cells": [
    {
      "attachments": {},
      "cell_type": "markdown",
      "metadata": {
        "id": "Kc5hFCLSiDNr"
      },
      "source": [
        "# Creating a Neural Network\n",
        "Time to get hands on and train a very basic neural network.\n",
        "\n",
        "*This guide is based off of the following TensorFlow tutorial.*\n",
        "https://www.tensorflow.org/tutorials/keras/classification\n"
      ]
    },
    {
      "attachments": {},
      "cell_type": "markdown",
      "metadata": {
        "id": "3io6gbUrjOQY"
      },
      "source": [
        "### Imports"
      ]
    },
    {
      "cell_type": "code",
      "execution_count": null,
      "metadata": {
        "id": "y8t_EdO8jEHz",
        "vscode": {
          "languageId": "python"
        }
      },
      "outputs": [],
      "source": [
        "# TensorFlow and tf.keras\n",
        "import tensorflow as tf\n",
        "\n",
        "# Helper libraries\n",
        "import numpy as np\n",
        "import matplotlib.pyplot as plt"
      ]
    },
    {
      "attachments": {},
      "cell_type": "markdown",
      "metadata": {
        "id": "p_iFN10li6V1"
      },
      "source": [
        "### Dataset\n",
        "For this tutorial we will use the MNIST Fashion Dataset. This is a dataset that is included in keras.\n",
        "\n",
        "This dataset includes 60,000 images for training and 10,000 images for validation/testing."
      ]
    },
    {
      "cell_type": "code",
      "execution_count": null,
      "metadata": {
        "id": "eQmVmgOxjCOV",
        "outputId": "ee1430fa-f56e-4c2a-d565-fb9a94b3b171",
        "vscode": {
          "languageId": "python"
        }
      },
      "outputs": [
        {
          "name": "stdout",
          "output_type": "stream",
          "text": [
            "Downloading data from https://storage.googleapis.com/tensorflow/tf-keras-datasets/train-labels-idx1-ubyte.gz\n",
            "32768/29515 [=================================] - 0s 0us/step\n",
            "Downloading data from https://storage.googleapis.com/tensorflow/tf-keras-datasets/train-images-idx3-ubyte.gz\n",
            "26427392/26421880 [==============================] - 2s 0us/step\n",
            "Downloading data from https://storage.googleapis.com/tensorflow/tf-keras-datasets/t10k-labels-idx1-ubyte.gz\n",
            "8192/5148 [===============================================] - 0s 0us/step\n",
            "Downloading data from https://storage.googleapis.com/tensorflow/tf-keras-datasets/t10k-images-idx3-ubyte.gz\n",
            "4423680/4422102 [==============================] - 0s 0us/step\n"
          ]
        }
      ],
      "source": [
        "fashion_mnist = tf.keras.datasets.fashion_mnist  # load dataset\n",
        "\n",
        "(train_images, train_labels), (test_images, test_labels) = fashion_mnist.load_data()  # split into tetsing and training"
      ]
    },
    {
      "attachments": {},
      "cell_type": "markdown",
      "metadata": {
        "id": "AcIall2njfn1"
      },
      "source": [
        "Let's have a look at this data to see what we are working with."
      ]
    },
    {
      "cell_type": "code",
      "execution_count": null,
      "metadata": {
        "colab": {
          "base_uri": "https://localhost:8080/",
          "height": 34
        },
        "id": "WhLXRxOdjisI",
        "outputId": "3bc3a5f0-a32d-4043-f814-1af640b77a93",
        "vscode": {
          "languageId": "python"
        }
      },
      "outputs": [
        {
          "data": {
            "text/plain": [
              "(60000, 28, 28)"
            ]
          },
          "execution_count": 3,
          "metadata": {},
          "output_type": "execute_result"
        }
      ],
      "source": [
        "train_images.shape"
      ]
    },
    {
      "attachments": {},
      "cell_type": "markdown",
      "metadata": {
        "id": "D2npdFHwjsLS"
      },
      "source": [
        "So we've got 60,000 images that are made up of 28x28 pixels (784 in total)."
      ]
    },
    {
      "cell_type": "code",
      "execution_count": null,
      "metadata": {
        "colab": {
          "base_uri": "https://localhost:8080/",
          "height": 34
        },
        "id": "m280zyPqj3ws",
        "outputId": "7ec65b5c-cfc7-41db-ac4a-8508458740fd",
        "vscode": {
          "languageId": "python"
        }
      },
      "outputs": [
        {
          "data": {
            "text/plain": [
              "194"
            ]
          },
          "execution_count": 4,
          "metadata": {},
          "output_type": "execute_result"
        }
      ],
      "source": [
        "train_images[0,23,23]  # let's have a look at one pixel"
      ]
    },
    {
      "attachments": {},
      "cell_type": "markdown",
      "metadata": {
        "id": "GUciblEwkBe4"
      },
      "source": [
        "Our pixel values are between 0 and 255, 0 being black and 255 being white. This means we have a grayscale image as there are no color channels."
      ]
    },
    {
      "cell_type": "code",
      "execution_count": null,
      "metadata": {
        "colab": {
          "base_uri": "https://localhost:8080/",
          "height": 34
        },
        "id": "Rn78KO7fkQPJ",
        "outputId": "3839a664-1eb8-4e26-9a8b-1d08a1202fcb",
        "vscode": {
          "languageId": "python"
        }
      },
      "outputs": [
        {
          "data": {
            "text/plain": [
              "array([9, 0, 0, 3, 0, 2, 7, 2, 5, 5], dtype=uint8)"
            ]
          },
          "execution_count": 5,
          "metadata": {},
          "output_type": "execute_result"
        }
      ],
      "source": [
        "train_labels[:10]  # let's have a look at the first 10 training labels"
      ]
    },
    {
      "attachments": {},
      "cell_type": "markdown",
      "metadata": {
        "id": "r90qZKsnkaW7"
      },
      "source": [
        "Our labels are integers ranging from 0 - 9. Each integer represents a specific article of clothing. We'll create an array of label names to indicate which is which."
      ]
    },
    {
      "cell_type": "code",
      "execution_count": null,
      "metadata": {
        "id": "pBiICD2tkne8",
        "vscode": {
          "languageId": "python"
        }
      },
      "outputs": [],
      "source": [
        "class_names = ['T-shirt/top', 'Trouser', 'Pullover', 'Dress', 'Coat',\n",
        "               'Sandal', 'Shirt', 'Sneaker', 'Bag', 'Ankle boot']"
      ]
    },
    {
      "attachments": {},
      "cell_type": "markdown",
      "metadata": {
        "id": "4rv06eD8krMR"
      },
      "source": [
        "Fianlly let's look at what some of these images look like!"
      ]
    },
    {
      "cell_type": "code",
      "execution_count": null,
      "metadata": {
        "colab": {
          "base_uri": "https://localhost:8080/",
          "height": 265
        },
        "id": "Nfc8LV4Pkq0X",
        "outputId": "b59d37ef-2b36-43e8-dad8-a0f6265926f3",
        "vscode": {
          "languageId": "python"
        }
      },
      "outputs": [
        {
          "data": {
            "image/png": "[encoded data removed]",
            "image/svg+xml": [
              "<?xml version=\"1.0\" encoding=\"utf-8\" standalone=\"no\"?>\n",
              "<!DOCTYPE svg PUBLIC \"-//W3C//DTD SVG 1.1//EN\"\n",
              "  \"http://www.w3.org/Graphics/SVG/1.1/DTD/svg11.dtd\">\n",
              "<!-- Created with matplotlib (https://matplotlib.org/) -->\n",
              "<svg height=\"248.518125pt\" version=\"1.1\" viewBox=\"0 0 305.2645 248.518125\" width=\"305.2645pt\" xmlns=\"http://www.w3.org/2000/svg\" xmlns:xlink=\"http://www.w3.org/1999/xlink\">\n",
              " <defs>\n",
              "  <style type=\"text/css\">\n",
              "*{stroke-linecap:butt;stroke-linejoin:round;}\n",
              "  </style>\n",
              " </defs>\n",
              " <g id=\"figure_1\">\n",
              "  <g id=\"patch_1\">\n",
              "   <path d=\"M 0 248.518125 \n",
              "L 305.2645 248.518125 \n",
              "L 305.2645 0 \n",
              "L 0 0 \n",
              "z\n",
              "\" style=\"fill:none;\"/>\n",
              "  </g>\n",
              "  <g id=\"axes_1\">\n",
              "   <g id=\"patch_2\">\n",
              "    <path d=\"M 26.925 224.64 \n",
              "L 244.365 224.64 \n",
              "L 244.365 7.2 \n",
              "L 26.925 7.2 \n",
              "z\n",
              "\" style=\"fill:#ffffff;\"/>\n",
              "   </g>\n",
              "   <g clip-path=\"url(#p6ea6a518ba)\">\n",
              "    <image height=\"218\" id=\"imageb3a614eb4b\" transform=\"scale(1 -1)translate(0 -218)\" width=\"218\" x=\"26.925\" xlink:href=\"data:image/png;base64,\n",
              "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\" y=\"-6.64\"/>\n",
              "   </g>\n",
              "   <g id=\"matplotlib.axis_1\">\n",
              "    <g id=\"xtick_1\">\n",
              "     <g id=\"line2d_1\">\n",
              "      <defs>\n",
              "       <path d=\"M 0 0 \n",
              "L 0 3.5 \n",
              "\" id=\"m1f90e001d6\" style=\"stroke:#000000;stroke-width:0.8;\"/>\n",
              "      </defs>\n",
              "      <g>\n",
              "       <use style=\"stroke:#000000;stroke-width:0.8;\" x=\"30.807857\" xlink:href=\"#m1f90e001d6\" y=\"224.64\"/>\n",
              "      </g>\n",
              "     </g>\n",
              "     <g id=\"text_1\">\n",
              "      <!-- 0 -->\n",
              "      <defs>\n",
              "       <path d=\"M 31.78125 66.40625 \n",
              "Q 24.171875 66.40625 20.328125 58.90625 \n",
              "Q 16.5 51.421875 16.5 36.375 \n",
              "Q 16.5 21.390625 20.328125 13.890625 \n",
              "Q 24.171875 6.390625 31.78125 6.390625 \n",
              "Q 39.453125 6.390625 43.28125 13.890625 \n",
              "Q 47.125 21.390625 47.125 36.375 \n",
              "Q 47.125 51.421875 43.28125 58.90625 \n",
              "Q 39.453125 66.40625 31.78125 66.40625 \n",
              "z\n",
              "M 31.78125 74.21875 \n",
              "Q 44.046875 74.21875 50.515625 64.515625 \n",
              "Q 56.984375 54.828125 56.984375 36.375 \n",
              "Q 56.984375 17.96875 50.515625 8.265625 \n",
              "Q 44.046875 -1.421875 31.78125 -1.421875 \n",
              "Q 19.53125 -1.421875 13.0625 8.265625 \n",
              "Q 6.59375 17.96875 6.59375 36.375 \n",
              "Q 6.59375 54.828125 13.0625 64.515625 \n",
              "Q 19.53125 74.21875 31.78125 74.21875 \n",
              "z\n",
              "\" id=\"DejaVuSans-48\"/>\n",
              "      </defs>\n",
              "      <g transform=\"translate(27.626607 239.238437)scale(0.1 -0.1)\">\n",
              "       <use xlink:href=\"#DejaVuSans-48\"/>\n",
              "      </g>\n",
              "     </g>\n",
              "    </g>\n",
              "    <g id=\"xtick_2\">\n",
              "     <g id=\"line2d_2\">\n",
              "      <g>\n",
              "       <use style=\"stroke:#000000;stroke-width:0.8;\" x=\"69.636429\" xlink:href=\"#m1f90e001d6\" y=\"224.64\"/>\n",
              "      </g>\n",
              "     </g>\n",
              "     <g id=\"text_2\">\n",
              "      <!-- 5 -->\n",
              "      <defs>\n",
              "       <path d=\"M 10.796875 72.90625 \n",
              "L 49.515625 72.90625 \n",
              "L 49.515625 64.59375 \n",
              "L 19.828125 64.59375 \n",
              "L 19.828125 46.734375 \n",
              "Q 21.96875 47.46875 24.109375 47.828125 \n",
              "Q 26.265625 48.1875 28.421875 48.1875 \n",
              "Q 40.625 48.1875 47.75 41.5 \n",
              "Q 54.890625 34.8125 54.890625 23.390625 \n",
              "Q 54.890625 11.625 47.5625 5.09375 \n",
              "Q 40.234375 -1.421875 26.90625 -1.421875 \n",
              "Q 22.3125 -1.421875 17.546875 -0.640625 \n",
              "Q 12.796875 0.140625 7.71875 1.703125 \n",
              "L 7.71875 11.625 \n",
              "Q 12.109375 9.234375 16.796875 8.0625 \n",
              "Q 21.484375 6.890625 26.703125 6.890625 \n",
              "Q 35.15625 6.890625 40.078125 11.328125 \n",
              "Q 45.015625 15.765625 45.015625 23.390625 \n",
              "Q 45.015625 31 40.078125 35.4375 \n",
              "Q 35.15625 39.890625 26.703125 39.890625 \n",
              "Q 22.75 39.890625 18.8125 39.015625 \n",
              "Q 14.890625 38.140625 10.796875 36.28125 \n",
              "z\n",
              "\" id=\"DejaVuSans-53\"/>\n",
              "      </defs>\n",
              "      <g transform=\"translate(66.455179 239.238437)scale(0.1 -0.1)\">\n",
              "       <use xlink:href=\"#DejaVuSans-53\"/>\n",
              "      </g>\n",
              "     </g>\n",
              "    </g>\n",
              "    <g id=\"xtick_3\">\n",
              "     <g id=\"line2d_3\">\n",
              "      <g>\n",
              "       <use style=\"stroke:#000000;stroke-width:0.8;\" x=\"108.465\" xlink:href=\"#m1f90e001d6\" y=\"224.64\"/>\n",
              "      </g>\n",
              "     </g>\n",
              "     <g id=\"text_3\">\n",
              "      <!-- 10 -->\n",
              "      <defs>\n",
              "       <path d=\"M 12.40625 8.296875 \n",
              "L 28.515625 8.296875 \n",
              "L 28.515625 63.921875 \n",
              "L 10.984375 60.40625 \n",
              "L 10.984375 69.390625 \n",
              "L 28.421875 72.90625 \n",
              "L 38.28125 72.90625 \n",
              "L 38.28125 8.296875 \n",
              "L 54.390625 8.296875 \n",
              "L 54.390625 0 \n",
              "L 12.40625 0 \n",
              "z\n",
              "\" id=\"DejaVuSans-49\"/>\n",
              "      </defs>\n",
              "      <g transform=\"translate(102.1025 239.238437)scale(0.1 -0.1)\">\n",
              "       <use xlink:href=\"#DejaVuSans-49\"/>\n",
              "       <use x=\"63.623047\" xlink:href=\"#DejaVuSans-48\"/>\n",
              "      </g>\n",
              "     </g>\n",
              "    </g>\n",
              "    <g id=\"xtick_4\">\n",
              "     <g id=\"line2d_4\">\n",
              "      <g>\n",
              "       <use style=\"stroke:#000000;stroke-width:0.8;\" x=\"147.293571\" xlink:href=\"#m1f90e001d6\" y=\"224.64\"/>\n",
              "      </g>\n",
              "     </g>\n",
              "     <g id=\"text_4\">\n",
              "      <!-- 15 -->\n",
              "      <g transform=\"translate(140.931071 239.238437)scale(0.1 -0.1)\">\n",
              "       <use xlink:href=\"#DejaVuSans-49\"/>\n",
              "       <use x=\"63.623047\" xlink:href=\"#DejaVuSans-53\"/>\n",
              "      </g>\n",
              "     </g>\n",
              "    </g>\n",
              "    <g id=\"xtick_5\">\n",
              "     <g id=\"line2d_5\">\n",
              "      <g>\n",
              "       <use style=\"stroke:#000000;stroke-width:0.8;\" x=\"186.122143\" xlink:href=\"#m1f90e001d6\" y=\"224.64\"/>\n",
              "      </g>\n",
              "     </g>\n",
              "     <g id=\"text_5\">\n",
              "      <!-- 20 -->\n",
              "      <defs>\n",
              "       <path d=\"M 19.1875 8.296875 \n",
              "L 53.609375 8.296875 \n",
              "L 53.609375 0 \n",
              "L 7.328125 0 \n",
              "L 7.328125 8.296875 \n",
              "Q 12.9375 14.109375 22.625 23.890625 \n",
              "Q 32.328125 33.6875 34.8125 36.53125 \n",
              "Q 39.546875 41.84375 41.421875 45.53125 \n",
              "Q 43.3125 49.21875 43.3125 52.78125 \n",
              "Q 43.3125 58.59375 39.234375 62.25 \n",
              "Q 35.15625 65.921875 28.609375 65.921875 \n",
              "Q 23.96875 65.921875 18.8125 64.3125 \n",
              "Q 13.671875 62.703125 7.8125 59.421875 \n",
              "L 7.8125 69.390625 \n",
              "Q 13.765625 71.78125 18.9375 73 \n",
              "Q 24.125 74.21875 28.421875 74.21875 \n",
              "Q 39.75 74.21875 46.484375 68.546875 \n",
              "Q 53.21875 62.890625 53.21875 53.421875 \n",
              "Q 53.21875 48.921875 51.53125 44.890625 \n",
              "Q 49.859375 40.875 45.40625 35.40625 \n",
              "Q 44.1875 33.984375 37.640625 27.21875 \n",
              "Q 31.109375 20.453125 19.1875 8.296875 \n",
              "z\n",
              "\" id=\"DejaVuSans-50\"/>\n",
              "      </defs>\n",
              "      <g transform=\"translate(179.759643 239.238437)scale(0.1 -0.1)\">\n",
              "       <use xlink:href=\"#DejaVuSans-50\"/>\n",
              "       <use x=\"63.623047\" xlink:href=\"#DejaVuSans-48\"/>\n",
              "      </g>\n",
              "     </g>\n",
              "    </g>\n",
              "    <g id=\"xtick_6\">\n",
              "     <g id=\"line2d_6\">\n",
              "      <g>\n",
              "       <use style=\"stroke:#000000;stroke-width:0.8;\" x=\"224.950714\" xlink:href=\"#m1f90e001d6\" y=\"224.64\"/>\n",
              "      </g>\n",
              "     </g>\n",
              "     <g id=\"text_6\">\n",
              "      <!-- 25 -->\n",
              "      <g transform=\"translate(218.588214 239.238437)scale(0.1 -0.1)\">\n",
              "       <use xlink:href=\"#DejaVuSans-50\"/>\n",
              "       <use x=\"63.623047\" xlink:href=\"#DejaVuSans-53\"/>\n",
              "      </g>\n",
              "     </g>\n",
              "    </g>\n",
              "   </g>\n",
              "   <g id=\"matplotlib.axis_2\">\n",
              "    <g id=\"ytick_1\">\n",
              "     <g id=\"line2d_7\">\n",
              "      <defs>\n",
              "       <path d=\"M 0 0 \n",
              "L -3.5 0 \n",
              "\" id=\"ma2acd2f7fa\" style=\"stroke:#000000;stroke-width:0.8;\"/>\n",
              "      </defs>\n",
              "      <g>\n",
              "       <use style=\"stroke:#000000;stroke-width:0.8;\" x=\"26.925\" xlink:href=\"#ma2acd2f7fa\" y=\"11.082857\"/>\n",
              "      </g>\n",
              "     </g>\n",
              "     <g id=\"text_7\">\n",
              "      <!-- 0 -->\n",
              "      <g transform=\"translate(13.5625 14.882076)scale(0.1 -0.1)\">\n",
              "       <use xlink:href=\"#DejaVuSans-48\"/>\n",
              "      </g>\n",
              "     </g>\n",
              "    </g>\n",
              "    <g id=\"ytick_2\">\n",
              "     <g id=\"line2d_8\">\n",
              "      <g>\n",
              "       <use style=\"stroke:#000000;stroke-width:0.8;\" x=\"26.925\" xlink:href=\"#ma2acd2f7fa\" y=\"49.911429\"/>\n",
              "      </g>\n",
              "     </g>\n",
              "     <g id=\"text_8\">\n",
              "      <!-- 5 -->\n",
              "      <g transform=\"translate(13.5625 53.710647)scale(0.1 -0.1)\">\n",
              "       <use xlink:href=\"#DejaVuSans-53\"/>\n",
              "      </g>\n",
              "     </g>\n",
              "    </g>\n",
              "    <g id=\"ytick_3\">\n",
              "     <g id=\"line2d_9\">\n",
              "      <g>\n",
              "       <use style=\"stroke:#000000;stroke-width:0.8;\" x=\"26.925\" xlink:href=\"#ma2acd2f7fa\" y=\"88.74\"/>\n",
              "      </g>\n",
              "     </g>\n",
              "     <g id=\"text_9\">\n",
              "      <!-- 10 -->\n",
              "      <g transform=\"translate(7.2 92.539219)scale(0.1 -0.1)\">\n",
              "       <use xlink:href=\"#DejaVuSans-49\"/>\n",
              "       <use x=\"63.623047\" xlink:href=\"#DejaVuSans-48\"/>\n",
              "      </g>\n",
              "     </g>\n",
              "    </g>\n",
              "    <g id=\"ytick_4\">\n",
              "     <g id=\"line2d_10\">\n",
              "      <g>\n",
              "       <use style=\"stroke:#000000;stroke-width:0.8;\" x=\"26.925\" xlink:href=\"#ma2acd2f7fa\" y=\"127.568571\"/>\n",
              "      </g>\n",
              "     </g>\n",
              "     <g id=\"text_10\">\n",
              "      <!-- 15 -->\n",
              "      <g transform=\"translate(7.2 131.36779)scale(0.1 -0.1)\">\n",
              "       <use xlink:href=\"#DejaVuSans-49\"/>\n",
              "       <use x=\"63.623047\" xlink:href=\"#DejaVuSans-53\"/>\n",
              "      </g>\n",
              "     </g>\n",
              "    </g>\n",
              "    <g id=\"ytick_5\">\n",
              "     <g id=\"line2d_11\">\n",
              "      <g>\n",
              "       <use style=\"stroke:#000000;stroke-width:0.8;\" x=\"26.925\" xlink:href=\"#ma2acd2f7fa\" y=\"166.397143\"/>\n",
              "      </g>\n",
              "     </g>\n",
              "     <g id=\"text_11\">\n",
              "      <!-- 20 -->\n",
              "      <g transform=\"translate(7.2 170.196362)scale(0.1 -0.1)\">\n",
              "       <use xlink:href=\"#DejaVuSans-50\"/>\n",
              "       <use x=\"63.623047\" xlink:href=\"#DejaVuSans-48\"/>\n",
              "      </g>\n",
              "     </g>\n",
              "    </g>\n",
              "    <g id=\"ytick_6\">\n",
              "     <g id=\"line2d_12\">\n",
              "      <g>\n",
              "       <use style=\"stroke:#000000;stroke-width:0.8;\" x=\"26.925\" xlink:href=\"#ma2acd2f7fa\" y=\"205.225714\"/>\n",
              "      </g>\n",
              "     </g>\n",
              "     <g id=\"text_12\">\n",
              "      <!-- 25 -->\n",
              "      <g transform=\"translate(7.2 209.024933)scale(0.1 -0.1)\">\n",
              "       <use xlink:href=\"#DejaVuSans-50\"/>\n",
              "       <use x=\"63.623047\" xlink:href=\"#DejaVuSans-53\"/>\n",
              "      </g>\n",
              "     </g>\n",
              "    </g>\n",
              "   </g>\n",
              "   <g id=\"patch_3\">\n",
              "    <path d=\"M 26.925 224.64 \n",
              "L 26.925 7.2 \n",
              "\" style=\"fill:none;stroke:#000000;stroke-linecap:square;stroke-linejoin:miter;stroke-width:0.8;\"/>\n",
              "   </g>\n",
              "   <g id=\"patch_4\">\n",
              "    <path d=\"M 244.365 224.64 \n",
              "L 244.365 7.2 \n",
              "\" style=\"fill:none;stroke:#000000;stroke-linecap:square;stroke-linejoin:miter;stroke-width:0.8;\"/>\n",
              "   </g>\n",
              "   <g id=\"patch_5\">\n",
              "    <path d=\"M 26.925 224.64 \n",
              "L 244.365 224.64 \n",
              "\" style=\"fill:none;stroke:#000000;stroke-linecap:square;stroke-linejoin:miter;stroke-width:0.8;\"/>\n",
              "   </g>\n",
              "   <g id=\"patch_6\">\n",
              "    <path d=\"M 26.925 7.2 \n",
              "L 244.365 7.2 \n",
              "\" style=\"fill:none;stroke:#000000;stroke-linecap:square;stroke-linejoin:miter;stroke-width:0.8;\"/>\n",
              "   </g>\n",
              "  </g>\n",
              "  <g id=\"axes_2\">\n",
              "   <g id=\"patch_7\">\n",
              "    <path clip-path=\"url(#p55cf1eac7e)\" d=\"M 261.105 224.64 \n",
              "L 261.105 223.790625 \n",
              "L 261.105 8.049375 \n",
              "L 261.105 7.2 \n",
              "L 271.977 7.2 \n",
              "L 271.977 8.049375 \n",
              "L 271.977 223.790625 \n",
              "L 271.977 224.64 \n",
              "z\n",
              "\" style=\"fill:#ffffff;stroke:#ffffff;stroke-linejoin:miter;stroke-width:0.01;\"/>\n",
              "   </g>\n",
              "   <image height=\"217\" id=\"image23274e2ef2\" transform=\"scale(1 -1)translate(0 -217)\" width=\"11\" x=\"261\" xlink:href=\"data:image/png;base64,\n",
              "iVBORw0KGgoAAAANSUhEUgAAAAsAAADZCAYAAAD2WsoCAAAABHNCSVQICAgIfAhkiAAAAUhJREFUaIHdmsENAjEMBGM7R2XUQP+NQGjB8xjJd7yt1e6sQ9Bx8c7PWc3Pjozu7Norsj/MlKuIDaAcCTwj5aUpB6LBGtSGh3AWaWg2RHQWjcNstGdNGqJn7VidmtFgf9YMeDQbKKC3SIccWI8GVAbDcJ+J8h1piHUjG5qyRsPcDUvZ5HxDdDO2boqyR6M/iy96YgPdg5qN59f9eHQ3DOjVvaJ/vsegux8N4JgHBJ69UkTOM2iAn0huKV7AEcrgORmkwWzMQJdiQIuG5zmTDHs2loWu8gdseAFFGmB4azS8gJ4NRkP0bJWymTIYLrFui8YVX0kZ0rACFlG+ktAgDZa3dcQGrBvZGNEg4sxoMBtWQFTKSwyo7YZ2rK4FaMCA1j3Ilp99FXgB27NUuS+89ov83YCUiymD4SLDSPkK8LoO80zeOUnwkOoPXoiBaF8nrs8AAAAASUVORK5CYII=\" y=\"-7\"/>\n",
              "   <g id=\"matplotlib.axis_3\"/>\n",
              "   <g id=\"matplotlib.axis_4\">\n",
              "    <g id=\"ytick_7\">\n",
              "     <g id=\"line2d_13\">\n",
              "      <defs>\n",
              "       <path d=\"M 0 0 \n",
              "L 3.5 0 \n",
              "\" id=\"mda9a1d896a\" style=\"stroke:#000000;stroke-width:0.8;\"/>\n",
              "      </defs>\n",
              "      <g>\n",
              "       <use style=\"stroke:#000000;stroke-width:0.8;\" x=\"271.977\" xlink:href=\"#mda9a1d896a\" y=\"224.64\"/>\n",
              "      </g>\n",
              "     </g>\n",
              "     <g id=\"text_13\">\n",
              "      <!-- 0 -->\n",
              "      <g transform=\"translate(278.977 228.439219)scale(0.1 -0.1)\">\n",
              "       <use xlink:href=\"#DejaVuSans-48\"/>\n",
              "      </g>\n",
              "     </g>\n",
              "    </g>\n",
              "    <g id=\"ytick_8\">\n",
              "     <g id=\"line2d_14\">\n",
              "      <g>\n",
              "       <use style=\"stroke:#000000;stroke-width:0.8;\" x=\"271.977\" xlink:href=\"#mda9a1d896a\" y=\"182.004706\"/>\n",
              "      </g>\n",
              "     </g>\n",
              "     <g id=\"text_14\">\n",
              "      <!-- 50 -->\n",
              "      <g transform=\"translate(278.977 185.803925)scale(0.1 -0.1)\">\n",
              "       <use xlink:href=\"#DejaVuSans-53\"/>\n",
              "       <use x=\"63.623047\" xlink:href=\"#DejaVuSans-48\"/>\n",
              "      </g>\n",
              "     </g>\n",
              "    </g>\n",
              "    <g id=\"ytick_9\">\n",
              "     <g id=\"line2d_15\">\n",
              "      <g>\n",
              "       <use style=\"stroke:#000000;stroke-width:0.8;\" x=\"271.977\" xlink:href=\"#mda9a1d896a\" y=\"139.369412\"/>\n",
              "      </g>\n",
              "     </g>\n",
              "     <g id=\"text_15\">\n",
              "      <!-- 100 -->\n",
              "      <g transform=\"translate(278.977 143.168631)scale(0.1 -0.1)\">\n",
              "       <use xlink:href=\"#DejaVuSans-49\"/>\n",
              "       <use x=\"63.623047\" xlink:href=\"#DejaVuSans-48\"/>\n",
              "       <use x=\"127.246094\" xlink:href=\"#DejaVuSans-48\"/>\n",
              "      </g>\n",
              "     </g>\n",
              "    </g>\n",
              "    <g id=\"ytick_10\">\n",
              "     <g id=\"line2d_16\">\n",
              "      <g>\n",
              "       <use style=\"stroke:#000000;stroke-width:0.8;\" x=\"271.977\" xlink:href=\"#mda9a1d896a\" y=\"96.734118\"/>\n",
              "      </g>\n",
              "     </g>\n",
              "     <g id=\"text_16\">\n",
              "      <!-- 150 -->\n",
              "      <g transform=\"translate(278.977 100.533336)scale(0.1 -0.1)\">\n",
              "       <use xlink:href=\"#DejaVuSans-49\"/>\n",
              "       <use x=\"63.623047\" xlink:href=\"#DejaVuSans-53\"/>\n",
              "       <use x=\"127.246094\" xlink:href=\"#DejaVuSans-48\"/>\n",
              "      </g>\n",
              "     </g>\n",
              "    </g>\n",
              "    <g id=\"ytick_11\">\n",
              "     <g id=\"line2d_17\">\n",
              "      <g>\n",
              "       <use style=\"stroke:#000000;stroke-width:0.8;\" x=\"271.977\" xlink:href=\"#mda9a1d896a\" y=\"54.098824\"/>\n",
              "      </g>\n",
              "     </g>\n",
              "     <g id=\"text_17\">\n",
              "      <!-- 200 -->\n",
              "      <g transform=\"translate(278.977 57.898042)scale(0.1 -0.1)\">\n",
              "       <use xlink:href=\"#DejaVuSans-50\"/>\n",
              "       <use x=\"63.623047\" xlink:href=\"#DejaVuSans-48\"/>\n",
              "       <use x=\"127.246094\" xlink:href=\"#DejaVuSans-48\"/>\n",
              "      </g>\n",
              "     </g>\n",
              "    </g>\n",
              "    <g id=\"ytick_12\">\n",
              "     <g id=\"line2d_18\">\n",
              "      <g>\n",
              "       <use style=\"stroke:#000000;stroke-width:0.8;\" x=\"271.977\" xlink:href=\"#mda9a1d896a\" y=\"11.463529\"/>\n",
              "      </g>\n",
              "     </g>\n",
              "     <g id=\"text_18\">\n",
              "      <!-- 250 -->\n",
              "      <g transform=\"translate(278.977 15.262748)scale(0.1 -0.1)\">\n",
              "       <use xlink:href=\"#DejaVuSans-50\"/>\n",
              "       <use x=\"63.623047\" xlink:href=\"#DejaVuSans-53\"/>\n",
              "       <use x=\"127.246094\" xlink:href=\"#DejaVuSans-48\"/>\n",
              "      </g>\n",
              "     </g>\n",
              "    </g>\n",
              "   </g>\n",
              "   <g id=\"patch_8\">\n",
              "    <path d=\"M 261.105 224.64 \n",
              "L 261.105 223.790625 \n",
              "L 261.105 8.049375 \n",
              "L 261.105 7.2 \n",
              "L 271.977 7.2 \n",
              "L 271.977 8.049375 \n",
              "L 271.977 223.790625 \n",
              "L 271.977 224.64 \n",
              "z\n",
              "\" style=\"fill:none;stroke:#000000;stroke-linejoin:miter;stroke-width:0.8;\"/>\n",
              "   </g>\n",
              "  </g>\n",
              " </g>\n",
              " <defs>\n",
              "  <clipPath id=\"p6ea6a518ba\">\n",
              "   <rect height=\"217.44\" width=\"217.44\" x=\"26.925\" y=\"7.2\"/>\n",
              "  </clipPath>\n",
              "  <clipPath id=\"p55cf1eac7e\">\n",
              "   <rect height=\"217.44\" width=\"10.872\" x=\"261.105\" y=\"7.2\"/>\n",
              "  </clipPath>\n",
              " </defs>\n",
              "</svg>\n"
            ],
            "text/plain": [
              "<Figure size 432x288 with 2 Axes>"
            ]
          },
          "metadata": {
            "needs_background": "light"
          },
          "output_type": "display_data"
        }
      ],
      "source": [
        "plt.figure()\n",
        "plt.imshow(train_images[1])\n",
        "plt.colorbar()\n",
        "plt.grid(False)\n",
        "plt.show()"
      ]
    },
    {
      "attachments": {},
      "cell_type": "markdown",
      "metadata": {
        "id": "n_DC1b0grL1N"
      },
      "source": [
        "## Data Preprocessing\n",
        "The last step before creating our model is to *preprocess* our data. This simply means applying some prior transformations to our data before feeding it the model. In this case we will simply scale all our greyscale pixel values (0-255) to be between 0 and 1. We can do this by dividing each value in the training and testing sets by 255.0. We do this because smaller values will make it easier for the model to process our values. \n",
        "\n"
      ]
    },
    {
      "cell_type": "code",
      "execution_count": null,
      "metadata": {
        "id": "wHde8MYW0OQo",
        "vscode": {
          "languageId": "python"
        }
      },
      "outputs": [],
      "source": [
        "train_images = train_images / 255.0\n",
        "test_images = test_images / 255.0"
      ]
    },
    {
      "attachments": {},
      "cell_type": "markdown",
      "metadata": {
        "id": "dHOX6GqR0QuD"
      },
      "source": [
        "## Building the Model\n",
        "Now it's time to build the model! We are going to use a keras *sequential* model with three different layers. This model represents a feed-forward neural network (one that passes values from left to right). We'll break down each layer and its architecture below."
      ]
    },
    {
      "cell_type": "code",
      "execution_count": null,
      "metadata": {
        "colab": {
          "base_uri": "https://localhost:8080/",
          "height": 255
        },
        "id": "XDxodHMv0xgG",
        "outputId": "de4fdc32-5875-46f9-9cd4-520a048e677e",
        "vscode": {
          "languageId": "python"
        }
      },
      "outputs": [
        {
          "name": "stdout",
          "output_type": "stream",
          "text": [
            "Model: \"sequential\"\n",
            "_________________________________________________________________\n",
            "Layer (type)                 Output Shape              Param #   \n",
            "=================================================================\n",
            "flatten_1 (Flatten)          (None, 784)               0         \n",
            "_________________________________________________________________\n",
            "dense_1 (Dense)              (None, 128)               100480    \n",
            "_________________________________________________________________\n",
            "dense_output (Dense)         (None, 10)                1290      \n",
            "=================================================================\n",
            "Total params: 101,770\n",
            "Trainable params: 101,770\n",
            "Non-trainable params: 0\n",
            "_________________________________________________________________\n"
          ]
        }
      ],
      "source": [
        "from tensorflow.keras.models import Sequential\n",
        "from tensorflow.keras.layers import Flatten, Dense\n",
        "\n",
        "model = Sequential()\n",
        "\n",
        "model.add(Flatten(input_shape=(28, 28), name=\"flatten_1\"))\n",
        "model.add(Dense(128, activation='relu', name=\"dense_1\"))\n",
        "model.add(Dense(10, activation='softmax', name=\"dense_output\"))\n",
        "\n",
        "model.compile(\n",
        "    optimizer='adam',\n",
        "    loss='sparse_categorical_crossentropy',\n",
        "    metrics=['accuracy']\n",
        ")\n",
        "model.summary()"
      ]
    },
    {
      "attachments": {},
      "cell_type": "markdown",
      "metadata": {
        "id": "c-bL-I5w0414"
      },
      "source": [
        "**Layer 1:** This is our input layer and it will conist of 784 neurons. We use the flatten layer with an input shape of (28, 28) to denote that our input should come in in that shape. The flatten means that our layer will reshape the shape (28, 28) array into a vector of 784 neurons so that each pixel will be associated with one neuron.\n",
        "\n",
        "**Layer 2:** This is our first and only hidden layer. The *dense* denotes that this layer will be fully connected and each neuron from the previous layer connects to each neuron of this layer. It has 128 neurons and uses the rectify linear unit activation function.\n",
        "\n",
        "**Layer 3:** This is our output later and is also a dense layer. It has 10 neurons that we will look at to determine our models output. Each neuron represnts the probabillity of a given image being one of the 10 different classes. The activation function *softmax* is used on this layer to calculate a probabillity distribution for each class. This means the value of any neuron in this layer will be between 0 and 1, where 1 represents a high probabillity of the image being that class.\n",
        "\n",
        "### Compile the Model\n",
        "The last step in building the model is to define the loss function, optimizer and metrics we would like to track. I won't go into detail about why we chose each of these right now."
      ]
    },
    {
      "attachments": {},
      "cell_type": "markdown",
      "metadata": {
        "id": "7YYW5V_53OXV"
      },
      "source": [
        "## Training the Model\n",
        "Now it's finally time to train the model. Since we've already done all the work on our data this step is as easy as calling a single method."
      ]
    },
    {
      "cell_type": "code",
      "execution_count": null,
      "metadata": {
        "colab": {
          "base_uri": "https://localhost:8080/",
          "height": 377
        },
        "id": "XmAtc4uI3_C7",
        "outputId": "5a73330b-28ca-4268-a118-2b4b1612eabc",
        "vscode": {
          "languageId": "python"
        }
      },
      "outputs": [
        {
          "name": "stdout",
          "output_type": "stream",
          "text": [
            "Epoch 1/10\n",
            "1688/1688 [==============================] - 2s 1ms/step - loss: 0.5073 - accuracy: 0.8218 - val_loss: 0.3877 - val_accuracy: 0.8565\n",
            "Epoch 2/10\n",
            "1688/1688 [==============================] - 2s 1ms/step - loss: 0.3791 - accuracy: 0.8642 - val_loss: 0.3604 - val_accuracy: 0.8712\n",
            "Epoch 3/10\n",
            "1688/1688 [==============================] - 2s 1ms/step - loss: 0.3434 - accuracy: 0.8745 - val_loss: 0.3435 - val_accuracy: 0.8785\n",
            "Epoch 4/10\n",
            "1688/1688 [==============================] - 2s 1ms/step - loss: 0.3160 - accuracy: 0.8832 - val_loss: 0.3464 - val_accuracy: 0.8707\n",
            "Epoch 5/10\n",
            "1688/1688 [==============================] - 2s 1ms/step - loss: 0.2975 - accuracy: 0.8897 - val_loss: 0.3349 - val_accuracy: 0.8788\n",
            "Epoch 6/10\n",
            "1688/1688 [==============================] - 2s 1ms/step - loss: 0.2838 - accuracy: 0.8954 - val_loss: 0.3307 - val_accuracy: 0.8802\n",
            "Epoch 7/10\n",
            "1688/1688 [==============================] - 2s 1ms/step - loss: 0.2704 - accuracy: 0.8991 - val_loss: 0.3295 - val_accuracy: 0.8843\n",
            "Epoch 8/10\n",
            "1688/1688 [==============================] - 2s 1ms/step - loss: 0.2604 - accuracy: 0.9032 - val_loss: 0.3377 - val_accuracy: 0.8833\n",
            "Epoch 9/10\n",
            "1688/1688 [==============================] - 2s 1ms/step - loss: 0.2499 - accuracy: 0.9068 - val_loss: 0.3511 - val_accuracy: 0.8792\n",
            "Epoch 10/10\n",
            "1688/1688 [==============================] - 2s 1ms/step - loss: 0.2388 - accuracy: 0.9098 - val_loss: 0.3308 - val_accuracy: 0.8858\n"
          ]
        }
      ],
      "source": [
        "epochs = 10\n",
        "validation_split = 0.10\n",
        "\n",
        "history = model.fit(train_images, train_labels, \n",
        "                    epochs=epochs, \n",
        "                    validation_split=validation_split)  # we pass the data, labels and epochs and watch the magic!"
      ]
    },
    {
      "attachments": {},
      "cell_type": "markdown",
      "metadata": {
        "id": "y6SRtNcF4K1O"
      },
      "source": [
        "## Evaluating the Model\n",
        "Now it's time to test/evaluate the model. We can do this quite easily using another builtin method from keras.\n",
        "\n",
        "The *verbose* argument is defined from the keras documentation as:\n",
        "\"verbose: 0 or 1. Verbosity mode. 0 = silent, 1 = progress bar.\"\n",
        "(https://keras.io/models/sequential/)"
      ]
    },
    {
      "cell_type": "code",
      "execution_count": null,
      "metadata": {
        "colab": {
          "base_uri": "https://localhost:8080/",
          "height": 51
        },
        "id": "WqI0FEO54XN1",
        "outputId": "b4c13411-a7cb-42f0-9c60-8c2bab45366e",
        "vscode": {
          "languageId": "python"
        }
      },
      "outputs": [
        {
          "name": "stdout",
          "output_type": "stream",
          "text": [
            "313/313 [==============================] - 0s 798us/step - loss: 0.3408 - accuracy: 0.8817\n",
            "Test accuracy: 0.8816999793052673\n"
          ]
        }
      ],
      "source": [
        "test_loss, test_acc = model.evaluate(test_images, test_labels, verbose=1) \n",
        "\n",
        "print('Test accuracy:', test_acc)"
      ]
    },
    {
      "attachments": {},
      "cell_type": "markdown",
      "metadata": {
        "id": "nb4_EtfK5DuW"
      },
      "source": [
        "You'll likely notice that the accuracy here is lower than when training the model. This difference is reffered to as **overfitting**.\n",
        "\n",
        "And now we have a trained model that's ready to use to predict some values!"
      ]
    },
    {
      "attachments": {},
      "cell_type": "markdown",
      "metadata": {
        "id": "Pv0XpgwJ7GlW"
      },
      "source": [
        "## Making Predictions\n",
        "To make predictions we simply need to pass an array of data in the form we've specified in the input layer to ```.predict()``` method."
      ]
    },
    {
      "cell_type": "code",
      "execution_count": null,
      "metadata": {
        "id": "BMAkNWii7Ufj",
        "vscode": {
          "languageId": "python"
        }
      },
      "outputs": [],
      "source": [
        "predictions = model.predict(test_images)"
      ]
    },
    {
      "attachments": {},
      "cell_type": "markdown",
      "metadata": {
        "id": "LmRgxuEc7Xjc"
      },
      "source": [
        "This method returns to us an array of predictions for each image we passed it. Let's have a look at the predictions for image 1."
      ]
    },
    {
      "cell_type": "code",
      "execution_count": null,
      "metadata": {
        "colab": {
          "base_uri": "https://localhost:8080/",
          "height": 68
        },
        "id": "4y2eQtCr7fnd",
        "outputId": "010d000d-337b-4992-dd3f-c4beefa9caa4",
        "vscode": {
          "languageId": "python"
        }
      },
      "outputs": [
        {
          "data": {
            "text/plain": [
              "array([3.0851302e-09, 3.3350117e-10, 1.1074089e-10, 6.9785839e-12,\n",
              "       4.6257234e-09, 3.3317856e-04, 1.1814582e-09, 3.5732012e-02,\n",
              "       9.5847481e-09, 9.6393484e-01], dtype=float32)"
            ]
          },
          "execution_count": 13,
          "metadata": {},
          "output_type": "execute_result"
        }
      ],
      "source": [
        "predictions[0]"
      ]
    },
    {
      "attachments": {},
      "cell_type": "markdown",
      "metadata": {
        "id": "eiRNg9Yr7lCt"
      },
      "source": [
        "If we wan't to get the value with the highest score we can use a useful function from numpy called ```argmax()```. This simply returns the index of the maximium value from a numpy array. "
      ]
    },
    {
      "cell_type": "code",
      "execution_count": null,
      "metadata": {
        "colab": {
          "base_uri": "https://localhost:8080/",
          "height": 34
        },
        "id": "NaagMfi671ci",
        "outputId": "650e11a7-5572-4a1c-91bb-c1f1c26ace6a",
        "vscode": {
          "languageId": "python"
        }
      },
      "outputs": [
        {
          "data": {
            "text/plain": [
              "9"
            ]
          },
          "execution_count": 14,
          "metadata": {},
          "output_type": "execute_result"
        }
      ],
      "source": [
        "np.argmax(predictions[0])"
      ]
    },
    {
      "attachments": {},
      "cell_type": "markdown",
      "metadata": {
        "id": "aWY4SKYm8h93"
      },
      "source": [
        "And we can check if this is correct by looking at the value of the cooresponding test label."
      ]
    },
    {
      "cell_type": "code",
      "execution_count": null,
      "metadata": {
        "colab": {
          "base_uri": "https://localhost:8080/",
          "height": 34
        },
        "id": "xVNepduo8nEy",
        "outputId": "a270d721-40da-4de4-cdd9-ba79c590a33d",
        "vscode": {
          "languageId": "python"
        }
      },
      "outputs": [
        {
          "data": {
            "text/plain": [
              "9"
            ]
          },
          "execution_count": 15,
          "metadata": {},
          "output_type": "execute_result"
        }
      ],
      "source": [
        "test_labels[0]"
      ]
    },
    {
      "attachments": {},
      "cell_type": "markdown",
      "metadata": {
        "id": "Y8I1EqJu8qRl"
      },
      "source": [
        "## Verifying Predictions\n",
        "I've written a small function here to help us verify predictions with some simple visuals."
      ]
    },
    {
      "cell_type": "code",
      "execution_count": null,
      "metadata": {
        "colab": {
          "base_uri": "https://localhost:8080/",
          "height": 320
        },
        "id": "-HJV4JF789aC",
        "outputId": "31e051bc-afcb-45fa-8222-f1dc85cbfdfd",
        "vscode": {
          "languageId": "python"
        }
      },
      "outputs": [
        {
          "name": "stdout",
          "output_type": "stream",
          "text": [
            "Try again...\n",
            "Try again...\n",
            "Try again...\n",
            "Expected: Coat\n"
          ]
        },
        {
          "data": {
            "image/png": "[encoded data removed]",
            "image/svg+xml": [
              "<?xml version=\"1.0\" encoding=\"utf-8\" standalone=\"no\"?>\n",
              "<!DOCTYPE svg PUBLIC \"-//W3C//DTD SVG 1.1//EN\"\n",
              "  \"http://www.w3.org/Graphics/SVG/1.1/DTD/svg11.dtd\">\n",
              "<!-- Created with matplotlib (https://matplotlib.org/) -->\n",
              "<svg height=\"252.317344pt\" version=\"1.1\" viewBox=\"0 0 302.080125 252.317344\" width=\"302.080125pt\" xmlns=\"http://www.w3.org/2000/svg\" xmlns:xlink=\"http://www.w3.org/1999/xlink\">\n",
              " <defs>\n",
              "  <style type=\"text/css\">\n",
              "*{stroke-linecap:butt;stroke-linejoin:round;}\n",
              "  </style>\n",
              " </defs>\n",
              " <g id=\"figure_1\">\n",
              "  <g id=\"patch_1\">\n",
              "   <path d=\"M 0 252.317344 \n",
              "L 302.080125 252.317344 \n",
              "L 302.080125 0 \n",
              "L 0 0 \n",
              "z\n",
              "\" style=\"fill:none;\"/>\n",
              "  </g>\n",
              "  <g id=\"axes_1\">\n",
              "   <g id=\"patch_2\">\n",
              "    <path d=\"M 26.925 228.439219 \n",
              "L 244.365 228.439219 \n",
              "L 244.365 10.999219 \n",
              "L 26.925 10.999219 \n",
              "z\n",
              "\" style=\"fill:#ffffff;\"/>\n",
              "   </g>\n",
              "   <g clip-path=\"url(#p8d6a7fd07c)\">\n",
              "    <image height=\"218\" id=\"imagee0844635f2\" transform=\"scale(1 -1)translate(0 -218)\" width=\"218\" x=\"26.925\" xlink:href=\"data:image/png;base64,\n",
              "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\" y=\"-10.439219\"/>\n",
              "   </g>\n",
              "   <g id=\"matplotlib.axis_1\">\n",
              "    <g id=\"xtick_1\">\n",
              "     <g id=\"line2d_1\">\n",
              "      <defs>\n",
              "       <path d=\"M 0 0 \n",
              "L 0 3.5 \n",
              "\" id=\"meb151f0f7a\" style=\"stroke:#000000;stroke-width:0.8;\"/>\n",
              "      </defs>\n",
              "      <g>\n",
              "       <use style=\"stroke:#000000;stroke-width:0.8;\" x=\"30.807857\" xlink:href=\"#meb151f0f7a\" y=\"228.439219\"/>\n",
              "      </g>\n",
              "     </g>\n",
              "     <g id=\"text_1\">\n",
              "      <!-- 0 -->\n",
              "      <defs>\n",
              "       <path d=\"M 31.78125 66.40625 \n",
              "Q 24.171875 66.40625 20.328125 58.90625 \n",
              "Q 16.5 51.421875 16.5 36.375 \n",
              "Q 16.5 21.390625 20.328125 13.890625 \n",
              "Q 24.171875 6.390625 31.78125 6.390625 \n",
              "Q 39.453125 6.390625 43.28125 13.890625 \n",
              "Q 47.125 21.390625 47.125 36.375 \n",
              "Q 47.125 51.421875 43.28125 58.90625 \n",
              "Q 39.453125 66.40625 31.78125 66.40625 \n",
              "z\n",
              "M 31.78125 74.21875 \n",
              "Q 44.046875 74.21875 50.515625 64.515625 \n",
              "Q 56.984375 54.828125 56.984375 36.375 \n",
              "Q 56.984375 17.96875 50.515625 8.265625 \n",
              "Q 44.046875 -1.421875 31.78125 -1.421875 \n",
              "Q 19.53125 -1.421875 13.0625 8.265625 \n",
              "Q 6.59375 17.96875 6.59375 36.375 \n",
              "Q 6.59375 54.828125 13.0625 64.515625 \n",
              "Q 19.53125 74.21875 31.78125 74.21875 \n",
              "z\n",
              "\" id=\"DejaVuSans-48\"/>\n",
              "      </defs>\n",
              "      <g transform=\"translate(27.626607 243.037656)scale(0.1 -0.1)\">\n",
              "       <use xlink:href=\"#DejaVuSans-48\"/>\n",
              "      </g>\n",
              "     </g>\n",
              "    </g>\n",
              "    <g id=\"xtick_2\">\n",
              "     <g id=\"line2d_2\">\n",
              "      <g>\n",
              "       <use style=\"stroke:#000000;stroke-width:0.8;\" x=\"69.636429\" xlink:href=\"#meb151f0f7a\" y=\"228.439219\"/>\n",
              "      </g>\n",
              "     </g>\n",
              "     <g id=\"text_2\">\n",
              "      <!-- 5 -->\n",
              "      <defs>\n",
              "       <path d=\"M 10.796875 72.90625 \n",
              "L 49.515625 72.90625 \n",
              "L 49.515625 64.59375 \n",
              "L 19.828125 64.59375 \n",
              "L 19.828125 46.734375 \n",
              "Q 21.96875 47.46875 24.109375 47.828125 \n",
              "Q 26.265625 48.1875 28.421875 48.1875 \n",
              "Q 40.625 48.1875 47.75 41.5 \n",
              "Q 54.890625 34.8125 54.890625 23.390625 \n",
              "Q 54.890625 11.625 47.5625 5.09375 \n",
              "Q 40.234375 -1.421875 26.90625 -1.421875 \n",
              "Q 22.3125 -1.421875 17.546875 -0.640625 \n",
              "Q 12.796875 0.140625 7.71875 1.703125 \n",
              "L 7.71875 11.625 \n",
              "Q 12.109375 9.234375 16.796875 8.0625 \n",
              "Q 21.484375 6.890625 26.703125 6.890625 \n",
              "Q 35.15625 6.890625 40.078125 11.328125 \n",
              "Q 45.015625 15.765625 45.015625 23.390625 \n",
              "Q 45.015625 31 40.078125 35.4375 \n",
              "Q 35.15625 39.890625 26.703125 39.890625 \n",
              "Q 22.75 39.890625 18.8125 39.015625 \n",
              "Q 14.890625 38.140625 10.796875 36.28125 \n",
              "z\n",
              "\" id=\"DejaVuSans-53\"/>\n",
              "      </defs>\n",
              "      <g transform=\"translate(66.455179 243.037656)scale(0.1 -0.1)\">\n",
              "       <use xlink:href=\"#DejaVuSans-53\"/>\n",
              "      </g>\n",
              "     </g>\n",
              "    </g>\n",
              "    <g id=\"xtick_3\">\n",
              "     <g id=\"line2d_3\">\n",
              "      <g>\n",
              "       <use style=\"stroke:#000000;stroke-width:0.8;\" x=\"108.465\" xlink:href=\"#meb151f0f7a\" y=\"228.439219\"/>\n",
              "      </g>\n",
              "     </g>\n",
              "     <g id=\"text_3\">\n",
              "      <!-- 10 -->\n",
              "      <defs>\n",
              "       <path d=\"M 12.40625 8.296875 \n",
              "L 28.515625 8.296875 \n",
              "L 28.515625 63.921875 \n",
              "L 10.984375 60.40625 \n",
              "L 10.984375 69.390625 \n",
              "L 28.421875 72.90625 \n",
              "L 38.28125 72.90625 \n",
              "L 38.28125 8.296875 \n",
              "L 54.390625 8.296875 \n",
              "L 54.390625 0 \n",
              "L 12.40625 0 \n",
              "z\n",
              "\" id=\"DejaVuSans-49\"/>\n",
              "      </defs>\n",
              "      <g transform=\"translate(102.1025 243.037656)scale(0.1 -0.1)\">\n",
              "       <use xlink:href=\"#DejaVuSans-49\"/>\n",
              "       <use x=\"63.623047\" xlink:href=\"#DejaVuSans-48\"/>\n",
              "      </g>\n",
              "     </g>\n",
              "    </g>\n",
              "    <g id=\"xtick_4\">\n",
              "     <g id=\"line2d_4\">\n",
              "      <g>\n",
              "       <use style=\"stroke:#000000;stroke-width:0.8;\" x=\"147.293571\" xlink:href=\"#meb151f0f7a\" y=\"228.439219\"/>\n",
              "      </g>\n",
              "     </g>\n",
              "     <g id=\"text_4\">\n",
              "      <!-- 15 -->\n",
              "      <g transform=\"translate(140.931071 243.037656)scale(0.1 -0.1)\">\n",
              "       <use xlink:href=\"#DejaVuSans-49\"/>\n",
              "       <use x=\"63.623047\" xlink:href=\"#DejaVuSans-53\"/>\n",
              "      </g>\n",
              "     </g>\n",
              "    </g>\n",
              "    <g id=\"xtick_5\">\n",
              "     <g id=\"line2d_5\">\n",
              "      <g>\n",
              "       <use style=\"stroke:#000000;stroke-width:0.8;\" x=\"186.122143\" xlink:href=\"#meb151f0f7a\" y=\"228.439219\"/>\n",
              "      </g>\n",
              "     </g>\n",
              "     <g id=\"text_5\">\n",
              "      <!-- 20 -->\n",
              "      <defs>\n",
              "       <path d=\"M 19.1875 8.296875 \n",
              "L 53.609375 8.296875 \n",
              "L 53.609375 0 \n",
              "L 7.328125 0 \n",
              "L 7.328125 8.296875 \n",
              "Q 12.9375 14.109375 22.625 23.890625 \n",
              "Q 32.328125 33.6875 34.8125 36.53125 \n",
              "Q 39.546875 41.84375 41.421875 45.53125 \n",
              "Q 43.3125 49.21875 43.3125 52.78125 \n",
              "Q 43.3125 58.59375 39.234375 62.25 \n",
              "Q 35.15625 65.921875 28.609375 65.921875 \n",
              "Q 23.96875 65.921875 18.8125 64.3125 \n",
              "Q 13.671875 62.703125 7.8125 59.421875 \n",
              "L 7.8125 69.390625 \n",
              "Q 13.765625 71.78125 18.9375 73 \n",
              "Q 24.125 74.21875 28.421875 74.21875 \n",
              "Q 39.75 74.21875 46.484375 68.546875 \n",
              "Q 53.21875 62.890625 53.21875 53.421875 \n",
              "Q 53.21875 48.921875 51.53125 44.890625 \n",
              "Q 49.859375 40.875 45.40625 35.40625 \n",
              "Q 44.1875 33.984375 37.640625 27.21875 \n",
              "Q 31.109375 20.453125 19.1875 8.296875 \n",
              "z\n",
              "\" id=\"DejaVuSans-50\"/>\n",
              "      </defs>\n",
              "      <g transform=\"translate(179.759643 243.037656)scale(0.1 -0.1)\">\n",
              "       <use xlink:href=\"#DejaVuSans-50\"/>\n",
              "       <use x=\"63.623047\" xlink:href=\"#DejaVuSans-48\"/>\n",
              "      </g>\n",
              "     </g>\n",
              "    </g>\n",
              "    <g id=\"xtick_6\">\n",
              "     <g id=\"line2d_6\">\n",
              "      <g>\n",
              "       <use style=\"stroke:#000000;stroke-width:0.8;\" x=\"224.950714\" xlink:href=\"#meb151f0f7a\" y=\"228.439219\"/>\n",
              "      </g>\n",
              "     </g>\n",
              "     <g id=\"text_6\">\n",
              "      <!-- 25 -->\n",
              "      <g transform=\"translate(218.588214 243.037656)scale(0.1 -0.1)\">\n",
              "       <use xlink:href=\"#DejaVuSans-50\"/>\n",
              "       <use x=\"63.623047\" xlink:href=\"#DejaVuSans-53\"/>\n",
              "      </g>\n",
              "     </g>\n",
              "    </g>\n",
              "   </g>\n",
              "   <g id=\"matplotlib.axis_2\">\n",
              "    <g id=\"ytick_1\">\n",
              "     <g id=\"line2d_7\">\n",
              "      <defs>\n",
              "       <path d=\"M 0 0 \n",
              "L -3.5 0 \n",
              "\" id=\"m4e3865e819\" style=\"stroke:#000000;stroke-width:0.8;\"/>\n",
              "      </defs>\n",
              "      <g>\n",
              "       <use style=\"stroke:#000000;stroke-width:0.8;\" x=\"26.925\" xlink:href=\"#m4e3865e819\" y=\"14.882076\"/>\n",
              "      </g>\n",
              "     </g>\n",
              "     <g id=\"text_7\">\n",
              "      <!-- 0 -->\n",
              "      <g transform=\"translate(13.5625 18.681295)scale(0.1 -0.1)\">\n",
              "       <use xlink:href=\"#DejaVuSans-48\"/>\n",
              "      </g>\n",
              "     </g>\n",
              "    </g>\n",
              "    <g id=\"ytick_2\">\n",
              "     <g id=\"line2d_8\">\n",
              "      <g>\n",
              "       <use style=\"stroke:#000000;stroke-width:0.8;\" x=\"26.925\" xlink:href=\"#m4e3865e819\" y=\"53.710647\"/>\n",
              "      </g>\n",
              "     </g>\n",
              "     <g id=\"text_8\">\n",
              "      <!-- 5 -->\n",
              "      <g transform=\"translate(13.5625 57.509866)scale(0.1 -0.1)\">\n",
              "       <use xlink:href=\"#DejaVuSans-53\"/>\n",
              "      </g>\n",
              "     </g>\n",
              "    </g>\n",
              "    <g id=\"ytick_3\">\n",
              "     <g id=\"line2d_9\">\n",
              "      <g>\n",
              "       <use style=\"stroke:#000000;stroke-width:0.8;\" x=\"26.925\" xlink:href=\"#m4e3865e819\" y=\"92.539219\"/>\n",
              "      </g>\n",
              "     </g>\n",
              "     <g id=\"text_9\">\n",
              "      <!-- 10 -->\n",
              "      <g transform=\"translate(7.2 96.338437)scale(0.1 -0.1)\">\n",
              "       <use xlink:href=\"#DejaVuSans-49\"/>\n",
              "       <use x=\"63.623047\" xlink:href=\"#DejaVuSans-48\"/>\n",
              "      </g>\n",
              "     </g>\n",
              "    </g>\n",
              "    <g id=\"ytick_4\">\n",
              "     <g id=\"line2d_10\">\n",
              "      <g>\n",
              "       <use style=\"stroke:#000000;stroke-width:0.8;\" x=\"26.925\" xlink:href=\"#m4e3865e819\" y=\"131.36779\"/>\n",
              "      </g>\n",
              "     </g>\n",
              "     <g id=\"text_10\">\n",
              "      <!-- 15 -->\n",
              "      <g transform=\"translate(7.2 135.167009)scale(0.1 -0.1)\">\n",
              "       <use xlink:href=\"#DejaVuSans-49\"/>\n",
              "       <use x=\"63.623047\" xlink:href=\"#DejaVuSans-53\"/>\n",
              "      </g>\n",
              "     </g>\n",
              "    </g>\n",
              "    <g id=\"ytick_5\">\n",
              "     <g id=\"line2d_11\">\n",
              "      <g>\n",
              "       <use style=\"stroke:#000000;stroke-width:0.8;\" x=\"26.925\" xlink:href=\"#m4e3865e819\" y=\"170.196362\"/>\n",
              "      </g>\n",
              "     </g>\n",
              "     <g id=\"text_11\">\n",
              "      <!-- 20 -->\n",
              "      <g transform=\"translate(7.2 173.99558)scale(0.1 -0.1)\">\n",
              "       <use xlink:href=\"#DejaVuSans-50\"/>\n",
              "       <use x=\"63.623047\" xlink:href=\"#DejaVuSans-48\"/>\n",
              "      </g>\n",
              "     </g>\n",
              "    </g>\n",
              "    <g id=\"ytick_6\">\n",
              "     <g id=\"line2d_12\">\n",
              "      <g>\n",
              "       <use style=\"stroke:#000000;stroke-width:0.8;\" x=\"26.925\" xlink:href=\"#m4e3865e819\" y=\"209.024933\"/>\n",
              "      </g>\n",
              "     </g>\n",
              "     <g id=\"text_12\">\n",
              "      <!-- 25 -->\n",
              "      <g transform=\"translate(7.2 212.824152)scale(0.1 -0.1)\">\n",
              "       <use xlink:href=\"#DejaVuSans-50\"/>\n",
              "       <use x=\"63.623047\" xlink:href=\"#DejaVuSans-53\"/>\n",
              "      </g>\n",
              "     </g>\n",
              "    </g>\n",
              "   </g>\n",
              "   <g id=\"patch_3\">\n",
              "    <path d=\"M 26.925 228.439219 \n",
              "L 26.925 10.999219 \n",
              "\" style=\"fill:none;stroke:#000000;stroke-linecap:square;stroke-linejoin:miter;stroke-width:0.8;\"/>\n",
              "   </g>\n",
              "   <g id=\"patch_4\">\n",
              "    <path d=\"M 244.365 228.439219 \n",
              "L 244.365 10.999219 \n",
              "\" style=\"fill:none;stroke:#000000;stroke-linecap:square;stroke-linejoin:miter;stroke-width:0.8;\"/>\n",
              "   </g>\n",
              "   <g id=\"patch_5\">\n",
              "    <path d=\"M 26.925 228.439219 \n",
              "L 244.365 228.439219 \n",
              "\" style=\"fill:none;stroke:#000000;stroke-linecap:square;stroke-linejoin:miter;stroke-width:0.8;\"/>\n",
              "   </g>\n",
              "   <g id=\"patch_6\">\n",
              "    <path d=\"M 26.925 10.999219 \n",
              "L 244.365 10.999219 \n",
              "\" style=\"fill:none;stroke:#000000;stroke-linecap:square;stroke-linejoin:miter;stroke-width:0.8;\"/>\n",
              "   </g>\n",
              "  </g>\n",
              "  <g id=\"axes_2\">\n",
              "   <g id=\"patch_7\">\n",
              "    <path clip-path=\"url(#pd9bc502239)\" d=\"M 261.105 228.439219 \n",
              "L 261.105 227.589844 \n",
              "L 261.105 11.848594 \n",
              "L 261.105 10.999219 \n",
              "L 271.977 10.999219 \n",
              "L 271.977 11.848594 \n",
              "L 271.977 227.589844 \n",
              "L 271.977 228.439219 \n",
              "z\n",
              "\" style=\"fill:#ffffff;stroke:#ffffff;stroke-linejoin:miter;stroke-width:0.01;\"/>\n",
              "   </g>\n",
              "   <image height=\"217\" id=\"image9319bac49b\" transform=\"scale(1 -1)translate(0 -217)\" width=\"11\" x=\"261\" xlink:href=\"data:image/png;base64,\n",
              "iVBORw0KGgoAAAANSUhEUgAAAAsAAADZCAYAAAD2WsoCAAAABHNCSVQICAgIfAhkiAAAAIZJREFUaIHt0DEKwDAMBEEZ8v8ny2lVmoOAs6zqLXSzunvX4T17H7dfxt19wxuXxGrMGK+BH6hGHOM18APVmDF+oBpxjNfAD1QjjvEa+IFqxDFeAz9QjRnjB6oRx3gN/EA14hivgR+oRhzjNfAD1YhjvAZ+oBozxg9UI47xGviBP9RYVXVcv7byin7iZ0+DAAAAAElFTkSuQmCC\" y=\"-11\"/>\n",
              "   <g id=\"matplotlib.axis_3\"/>\n",
              "   <g id=\"matplotlib.axis_4\">\n",
              "    <g id=\"ytick_7\">\n",
              "     <g id=\"line2d_13\">\n",
              "      <defs>\n",
              "       <path d=\"M 0 0 \n",
              "L 3.5 0 \n",
              "\" id=\"m965c979662\" style=\"stroke:#000000;stroke-width:0.8;\"/>\n",
              "      </defs>\n",
              "      <g>\n",
              "       <use style=\"stroke:#000000;stroke-width:0.8;\" x=\"271.977\" xlink:href=\"#m965c979662\" y=\"228.439219\"/>\n",
              "      </g>\n",
              "     </g>\n",
              "     <g id=\"text_13\">\n",
              "      <!-- 0.0 -->\n",
              "      <defs>\n",
              "       <path d=\"M 10.6875 12.40625 \n",
              "L 21 12.40625 \n",
              "L 21 0 \n",
              "L 10.6875 0 \n",
              "z\n",
              "\" id=\"DejaVuSans-46\"/>\n",
              "      </defs>\n",
              "      <g transform=\"translate(278.977 232.238437)scale(0.1 -0.1)\">\n",
              "       <use xlink:href=\"#DejaVuSans-48\"/>\n",
              "       <use x=\"63.623047\" xlink:href=\"#DejaVuSans-46\"/>\n",
              "       <use x=\"95.410156\" xlink:href=\"#DejaVuSans-48\"/>\n",
              "      </g>\n",
              "     </g>\n",
              "    </g>\n",
              "    <g id=\"ytick_8\">\n",
              "     <g id=\"line2d_14\">\n",
              "      <g>\n",
              "       <use style=\"stroke:#000000;stroke-width:0.8;\" x=\"271.977\" xlink:href=\"#m965c979662\" y=\"184.951219\"/>\n",
              "      </g>\n",
              "     </g>\n",
              "     <g id=\"text_14\">\n",
              "      <!-- 0.2 -->\n",
              "      <g transform=\"translate(278.977 188.750437)scale(0.1 -0.1)\">\n",
              "       <use xlink:href=\"#DejaVuSans-48\"/>\n",
              "       <use x=\"63.623047\" xlink:href=\"#DejaVuSans-46\"/>\n",
              "       <use x=\"95.410156\" xlink:href=\"#DejaVuSans-50\"/>\n",
              "      </g>\n",
              "     </g>\n",
              "    </g>\n",
              "    <g id=\"ytick_9\">\n",
              "     <g id=\"line2d_15\">\n",
              "      <g>\n",
              "       <use style=\"stroke:#000000;stroke-width:0.8;\" x=\"271.977\" xlink:href=\"#m965c979662\" y=\"141.463219\"/>\n",
              "      </g>\n",
              "     </g>\n",
              "     <g id=\"text_15\">\n",
              "      <!-- 0.4 -->\n",
              "      <defs>\n",
              "       <path d=\"M 37.796875 64.3125 \n",
              "L 12.890625 25.390625 \n",
              "L 37.796875 25.390625 \n",
              "z\n",
              "M 35.203125 72.90625 \n",
              "L 47.609375 72.90625 \n",
              "L 47.609375 25.390625 \n",
              "L 58.015625 25.390625 \n",
              "L 58.015625 17.1875 \n",
              "L 47.609375 17.1875 \n",
              "L 47.609375 0 \n",
              "L 37.796875 0 \n",
              "L 37.796875 17.1875 \n",
              "L 4.890625 17.1875 \n",
              "L 4.890625 26.703125 \n",
              "z\n",
              "\" id=\"DejaVuSans-52\"/>\n",
              "      </defs>\n",
              "      <g transform=\"translate(278.977 145.262437)scale(0.1 -0.1)\">\n",
              "       <use xlink:href=\"#DejaVuSans-48\"/>\n",
              "       <use x=\"63.623047\" xlink:href=\"#DejaVuSans-46\"/>\n",
              "       <use x=\"95.410156\" xlink:href=\"#DejaVuSans-52\"/>\n",
              "      </g>\n",
              "     </g>\n",
              "    </g>\n",
              "    <g id=\"ytick_10\">\n",
              "     <g id=\"line2d_16\">\n",
              "      <g>\n",
              "       <use style=\"stroke:#000000;stroke-width:0.8;\" x=\"271.977\" xlink:href=\"#m965c979662\" y=\"97.975219\"/>\n",
              "      </g>\n",
              "     </g>\n",
              "     <g id=\"text_16\">\n",
              "      <!-- 0.6 -->\n",
              "      <defs>\n",
              "       <path d=\"M 33.015625 40.375 \n",
              "Q 26.375 40.375 22.484375 35.828125 \n",
              "Q 18.609375 31.296875 18.609375 23.390625 \n",
              "Q 18.609375 15.53125 22.484375 10.953125 \n",
              "Q 26.375 6.390625 33.015625 6.390625 \n",
              "Q 39.65625 6.390625 43.53125 10.953125 \n",
              "Q 47.40625 15.53125 47.40625 23.390625 \n",
              "Q 47.40625 31.296875 43.53125 35.828125 \n",
              "Q 39.65625 40.375 33.015625 40.375 \n",
              "z\n",
              "M 52.59375 71.296875 \n",
              "L 52.59375 62.3125 \n",
              "Q 48.875 64.0625 45.09375 64.984375 \n",
              "Q 41.3125 65.921875 37.59375 65.921875 \n",
              "Q 27.828125 65.921875 22.671875 59.328125 \n",
              "Q 17.53125 52.734375 16.796875 39.40625 \n",
              "Q 19.671875 43.65625 24.015625 45.921875 \n",
              "Q 28.375 48.1875 33.59375 48.1875 \n",
              "Q 44.578125 48.1875 50.953125 41.515625 \n",
              "Q 57.328125 34.859375 57.328125 23.390625 \n",
              "Q 57.328125 12.15625 50.6875 5.359375 \n",
              "Q 44.046875 -1.421875 33.015625 -1.421875 \n",
              "Q 20.359375 -1.421875 13.671875 8.265625 \n",
              "Q 6.984375 17.96875 6.984375 36.375 \n",
              "Q 6.984375 53.65625 15.1875 63.9375 \n",
              "Q 23.390625 74.21875 37.203125 74.21875 \n",
              "Q 40.921875 74.21875 44.703125 73.484375 \n",
              "Q 48.484375 72.75 52.59375 71.296875 \n",
              "z\n",
              "\" id=\"DejaVuSans-54\"/>\n",
              "      </defs>\n",
              "      <g transform=\"translate(278.977 101.774437)scale(0.1 -0.1)\">\n",
              "       <use xlink:href=\"#DejaVuSans-48\"/>\n",
              "       <use x=\"63.623047\" xlink:href=\"#DejaVuSans-46\"/>\n",
              "       <use x=\"95.410156\" xlink:href=\"#DejaVuSans-54\"/>\n",
              "      </g>\n",
              "     </g>\n",
              "    </g>\n",
              "    <g id=\"ytick_11\">\n",
              "     <g id=\"line2d_17\">\n",
              "      <g>\n",
              "       <use style=\"stroke:#000000;stroke-width:0.8;\" x=\"271.977\" xlink:href=\"#m965c979662\" y=\"54.487219\"/>\n",
              "      </g>\n",
              "     </g>\n",
              "     <g id=\"text_17\">\n",
              "      <!-- 0.8 -->\n",
              "      <defs>\n",
              "       <path d=\"M 31.78125 34.625 \n",
              "Q 24.75 34.625 20.71875 30.859375 \n",
              "Q 16.703125 27.09375 16.703125 20.515625 \n",
              "Q 16.703125 13.921875 20.71875 10.15625 \n",
              "Q 24.75 6.390625 31.78125 6.390625 \n",
              "Q 38.8125 6.390625 42.859375 10.171875 \n",
              "Q 46.921875 13.96875 46.921875 20.515625 \n",
              "Q 46.921875 27.09375 42.890625 30.859375 \n",
              "Q 38.875 34.625 31.78125 34.625 \n",
              "z\n",
              "M 21.921875 38.8125 \n",
              "Q 15.578125 40.375 12.03125 44.71875 \n",
              "Q 8.5 49.078125 8.5 55.328125 \n",
              "Q 8.5 64.0625 14.71875 69.140625 \n",
              "Q 20.953125 74.21875 31.78125 74.21875 \n",
              "Q 42.671875 74.21875 48.875 69.140625 \n",
              "Q 55.078125 64.0625 55.078125 55.328125 \n",
              "Q 55.078125 49.078125 51.53125 44.71875 \n",
              "Q 48 40.375 41.703125 38.8125 \n",
              "Q 48.828125 37.15625 52.796875 32.3125 \n",
              "Q 56.78125 27.484375 56.78125 20.515625 \n",
              "Q 56.78125 9.90625 50.3125 4.234375 \n",
              "Q 43.84375 -1.421875 31.78125 -1.421875 \n",
              "Q 19.734375 -1.421875 13.25 4.234375 \n",
              "Q 6.78125 9.90625 6.78125 20.515625 \n",
              "Q 6.78125 27.484375 10.78125 32.3125 \n",
              "Q 14.796875 37.15625 21.921875 38.8125 \n",
              "z\n",
              "M 18.3125 54.390625 \n",
              "Q 18.3125 48.734375 21.84375 45.5625 \n",
              "Q 25.390625 42.390625 31.78125 42.390625 \n",
              "Q 38.140625 42.390625 41.71875 45.5625 \n",
              "Q 45.3125 48.734375 45.3125 54.390625 \n",
              "Q 45.3125 60.0625 41.71875 63.234375 \n",
              "Q 38.140625 66.40625 31.78125 66.40625 \n",
              "Q 25.390625 66.40625 21.84375 63.234375 \n",
              "Q 18.3125 60.0625 18.3125 54.390625 \n",
              "z\n",
              "\" id=\"DejaVuSans-56\"/>\n",
              "      </defs>\n",
              "      <g transform=\"translate(278.977 58.286437)scale(0.1 -0.1)\">\n",
              "       <use xlink:href=\"#DejaVuSans-48\"/>\n",
              "       <use x=\"63.623047\" xlink:href=\"#DejaVuSans-46\"/>\n",
              "       <use x=\"95.410156\" xlink:href=\"#DejaVuSans-56\"/>\n",
              "      </g>\n",
              "     </g>\n",
              "    </g>\n",
              "    <g id=\"ytick_12\">\n",
              "     <g id=\"line2d_18\">\n",
              "      <g>\n",
              "       <use style=\"stroke:#000000;stroke-width:0.8;\" x=\"271.977\" xlink:href=\"#m965c979662\" y=\"10.999219\"/>\n",
              "      </g>\n",
              "     </g>\n",
              "     <g id=\"text_18\">\n",
              "      <!-- 1.0 -->\n",
              "      <g transform=\"translate(278.977 14.798437)scale(0.1 -0.1)\">\n",
              "       <use xlink:href=\"#DejaVuSans-49\"/>\n",
              "       <use x=\"63.623047\" xlink:href=\"#DejaVuSans-46\"/>\n",
              "       <use x=\"95.410156\" xlink:href=\"#DejaVuSans-48\"/>\n",
              "      </g>\n",
              "     </g>\n",
              "    </g>\n",
              "   </g>\n",
              "   <g id=\"patch_8\">\n",
              "    <path d=\"M 261.105 228.439219 \n",
              "L 261.105 227.589844 \n",
              "L 261.105 11.848594 \n",
              "L 261.105 10.999219 \n",
              "L 271.977 10.999219 \n",
              "L 271.977 11.848594 \n",
              "L 271.977 227.589844 \n",
              "L 271.977 228.439219 \n",
              "z\n",
              "\" style=\"fill:none;stroke:#000000;stroke-linejoin:miter;stroke-width:0.8;\"/>\n",
              "   </g>\n",
              "  </g>\n",
              " </g>\n",
              " <defs>\n",
              "  <clipPath id=\"p8d6a7fd07c\">\n",
              "   <rect height=\"217.44\" width=\"217.44\" x=\"26.925\" y=\"10.999219\"/>\n",
              "  </clipPath>\n",
              "  <clipPath id=\"pd9bc502239\">\n",
              "   <rect height=\"217.44\" width=\"10.872\" x=\"261.105\" y=\"10.999219\"/>\n",
              "  </clipPath>\n",
              " </defs>\n",
              "</svg>\n"
            ],
            "text/plain": [
              "<Figure size 432x288 with 2 Axes>"
            ]
          },
          "metadata": {
            "needs_background": "light"
          },
          "output_type": "display_data"
        },
        {
          "name": "stdout",
          "output_type": "stream",
          "text": [
            "Guess: Coat - Accuracy: 91.2%\n"
          ]
        }
      ],
      "source": [
        "COLOR = 'white'\n",
        "plt.rcParams['text.color'] = COLOR\n",
        "plt.rcParams['axes.labelcolor'] = COLOR\n",
        "\n",
        "def predict(model, image, correct_label):\n",
        "  class_names = ['T-shirt/top', 'Trouser', 'Pullover', 'Dress', 'Coat',\n",
        "               'Sandal', 'Shirt', 'Sneaker', 'Bag', 'Ankle boot']\n",
        "  prediction = model.predict(np.array([image]))\n",
        "  predicted_class = class_names[np.argmax(prediction)]\n",
        "\n",
        "  show_image(image, class_names[correct_label], predicted_class, np.max(prediction)*100)\n",
        "\n",
        "\n",
        "def show_image(img, label, guess, accuracy):\n",
        "  print(\"Expected: \" + label)\n",
        "  plt.figure()\n",
        "  plt.imshow(img, cmap=plt.cm.binary)\n",
        "  plt.colorbar()\n",
        "  plt.grid(False)\n",
        "  plt.show()\n",
        "  print(f'Guess: {guess} - Accuracy: {accuracy:.1f}%')\n",
        "\n",
        "\n",
        "def get_number():\n",
        "  while True:\n",
        "    num = input(\"Pick a number: \")\n",
        "    if num.isdigit():\n",
        "      num = int(num)\n",
        "      if 0 <= num <= 1000:\n",
        "        return int(num)\n",
        "    else:\n",
        "      print(\"Try again...\")\n",
        "\n",
        "num = get_number()\n",
        "image = test_images[num]\n",
        "label = test_labels[num]\n",
        "predict(model, image, label)"
      ]
    },
    {
      "attachments": {},
      "cell_type": "markdown",
      "metadata": {
        "id": "1HRzP5hCAijM"
      },
      "source": [
        "And that's pretty much it for an introduction to neural networks!"
      ]
    },
    {
      "attachments": {},
      "cell_type": "markdown",
      "metadata": {
        "id": "PmbcLZZ0lo_2"
      },
      "source": [
        "## Sources\n",
        "\n",
        "1. Doshi, Sanket. “Various Optimization Algorithms For Training Neural Network.” Medium, Medium, 10 Mar. 2019, www.medium.com/@sdoshi579/optimizers-for-training-neural-network-59450d71caf6.\n",
        "\n",
        "2. “Basic Classification: Classify Images of Clothing &nbsp;: &nbsp; TensorFlow Core.” TensorFlow, www.tensorflow.org/tutorials/keras/classification.\n",
        "\n",
        "3. “Gradient Descent¶.” Gradient Descent - ML Glossary Documentation, www.ml-cheatsheet.readthedocs.io/en/latest/gradient_descent.html.\n",
        "\n",
        "4. Chollet François. Deep Learning with Python. Manning Publications Co., 2018.\n",
        "\n",
        "5. “Keras: The Python Deep Learning Library.” Home - Keras Documentation, www.keras.io/."
      ]
    }
  ],
  "metadata": {
    "accelerator": "GPU",
    "colab": {
      "name": "2 - Deep Learning - Neural Networks - Classifier (Fashion MNIST).ipynb",
      "provenance": []
    },
    "kernelspec": {
      "display_name": "Python 3",
      "name": "python3"
    }
  },
  "nbformat": 4,
  "nbformat_minor": 0
}
