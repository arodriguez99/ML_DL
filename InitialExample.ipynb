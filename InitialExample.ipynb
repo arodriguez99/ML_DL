{
  "cells": [
    {
      "attachments": {},
      "cell_type": "markdown",
      "metadata": {
        "id": "BW04XlZbNt3l"
      },
      "source": [
        "# Initial examples (Supervised Learning)\n"
      ]
    },
    {
      "attachments": {},
      "cell_type": "markdown",
      "metadata": {
        "id": "9oVs2mhXPx3T"
      },
      "source": [
        "> *A regression model provides a function that describes the relationship between **one or more independent variables** and a **response, dependent, or target variable**.*\n",
        "\n",
        "- Input variables (X, attributes, features, variables)\n",
        "- Output **target** variable (*y*, target, label)\n",
        "\n",
        "## The goal is to find a function *f* that fulfills: ***y = f(X)***\n",
        "\n",
        "<img width=\"50%\" src=\"data:image/png;base64,iVBORw0KGgoAAAANSUhEUgAAAaEAAACwCAIAAAApN0YfAAAgAElEQVR4nO2deXxU5b3/n7PNPpNMErITIBDbsAkoUqmIoghViSwiS1VQEURFVIKIuKJXBa1clWLbXBQFZKkgUAGDKyigIIpcggQKCAEChCyTSWY558w5vz8+zfObUq+ypJ1k8n3/kddkcjLzzHI+5/t8V8E0TUYQBBGniLFeAEEQxL8R0jiCIOIZ0jiCIOIZ0jiCIOIZ0jiCIOIZ0jiCIOIZ0jiCIOIZ0jiCIOIZ0jiCIOIZ0jiCIOIZ0jiCIOIZ0jiCIOIZ0jiCIOIZ0rh4IBKJ4IZpmqFQSNd1xphhGIyxcDjMbzPGAoFAjNYYD2iaxhreUjTsiTTAGDMMwzAM3B8KhWK6UuL/QxoXD0iShDNNEASbzSbLMmNMEIRQKGS1WlVVxYlnGIbD4aBuWueNoig+n89qtTLGgsEgY8w0TUmSRFHUNE0URcMwBEFgjMmyjCsNEXME+sbHB6ZpmqaJEywSiRiGoSgKfjUM48iRI+Xl5aIoiqIoyzI364hzQtM0RVFEUZQkSdd1GG6nTp1q27Zt+/btbTYbziZd1y0WS6wXS/wDOdYLIBoBXddlWRYEAXaELMvQu2AwaLfbDxw48N///d/bt29PTk7GaSlJUqyX3CwRRVHXdUmSNE2TZVmSpMrKytTU1Pvvvz8/P1/TNEibKIqMMcMwcIOILaRx8QA0C7omCP+wzTVNs1qthw4devPNNzdv3ixJUjAYNE0zEomQ8X5+KIoSDAZlWbZarSdOnGCMZWVlDRkypF+/fjDuoGvwFUQiEdK4pgBpXDzA96QwMQzDsFqtkiTt27fvj3/84yeffOLxeJKTk0OhUDgc5lsq4lyJRCIejycSicAl165du3vvvbd///4HDx7cuXPn0KFDEXyAk05RlFivl2CM/HHxATZQkUiE71IZY6WlpW+88caXX37p8XhcLldNTQ32s4qikDv8/BAEQVVVRVEqKysvuuiiO++889prr62pqRk1apTD4Vi+fDn2qnB3wqaO9ZIJsuPiBTjjuA+otLS0qKho06ZNHo9HEITa2lpZlkVRhJOO/HHnhyAIdru9uro6ISHh97//ff/+/f1+/5QpU7744ouhQ4daLBbTNLlvNNaLJf4BaVxzgttopmli14n74QCCEccYO3To0OLFiz/44IOsrCwcwB12pmniYOJnEEUxFAohzwaGG5yYoiieOnVKUZQxY8Zce+211dXVkydPXr58uWmadrsdnw5tUZsa5BNtTnBjDXlwLCq5V9d1OIMOHz48b968hQsX5uTkxHKtzRld1+12eygUwtsL00yW5WAw6HK5CgsLb7/99v37948YMWLx4sVksjVx6JLenIApgWR60zShdxaLBSE8URSPHz8+Z86ctWvXtmnTRtd1Ov3OD1mW8ZZarVa854FAIBAIeL3eqVOnDhw4cMeOHY8++ujGjRsZY6qqkmnclKHPpjmhqqrVaoU1h/R63C9JkqqqtbW1s2bNWrNmTfv27UVRhAjGdsHNFF3XRVG0WCx+v980TZfLFQqF0tPTJ02aNHDgwG3btr300ktbtmyBfUcBnCYO7VWbE7AXeMFQdGlkdXX1c88999FHH7Vt2xZVXBQxP2+Q66vrutPplCSprKzM7XbffffdAwYM2Llz58svv7xq1apAIIDDYr1Y4hcgO645wUMHSDdFlq8kSQcOHHjzzTe3bt3q9XqtViuy8LkUEucKrDNYwT6fz+12jx07dsiQIVu2bHn++efXr1+P9xYfhMViQa0+0TQhO645oes63EOMMXiLGGNlZWVFRUXFxcVWq9Vms/l8PkVRyIi7EOATME3z+PHjqamp48ePHzZs2Jdffvniiy+uXbsW8VOPx2OaptVqRXE+0WQhO645gQQ31GPBpjtw4MC77777ySefOJ1O6Jrb7Q6FQpIk8aIu4lxBuUgoFEpLS5s4cWL//v2/++67Bx98cMeOHci1Zoz5fD5BEAKBgM1mox1rU4bsuKYIwqaMMU3TNE3j0QPewwebo/Ly8sWLF69cudLtdsuyjMwsLn8kcL8IBAshaU3TBEFAHi/S4gRBmDhx4oABA/bv3z99+vQdO3awqFZ9LMofSm91U4Y0rikiCALvj4QWSbyVhaIoqqrabLZTp0698847y5cvT0xMjPV6myvhcNhqteq6HgqFPB6PJEnV1dV4hwOBwGOPPVZQUPC///u/EyZM2Lx5Mzk3mym0V22iYLPJGIPzG6aZJEl+v9/tdh89evSNN95YsWJFamoqnXvnjSAISBNxu91+vz8SiXi93pqaGlVVp0+f/rvf/W7Tpk2FhYW7du0yTVNRFIotNEfIjmuKYKPEGnqQKYoiSRKaI7nd7hMnTixcuHDlypUpKSkWi4Ua+Jw3CCygMI4xZrfbdV0PBoPjxo0bPHhwcXHxjBkzvv32W+TKkcA1U8iOa4pAtpBAj2xexBnsdnttbe2CBQsWLlyYkZGBZOBYL7Z5A38cEn1PnTolSdL9998/evToNWvWzJo1a8eOHQkJCT6fjy4kzRf65JoiyPXlaSIw62RZPn36dFFR0aJFixISEqBuFouF9qrnDTaqcHoeOXLEZrPdd99948aN++CDD+bMmbNjxw7TNCFwyEOM9XqJ84HsuKYItqg8PIo8uGPHji1ZsuTtt99OTEy02Ww4OWtqahwOR3Swjzh7DMNA7X19fX1SUtI999wzZMiQ995774UXXti5c6fdbldVlTEWiUTC4TCZzM0UsuOaIjDNsBWFfh09enTZsmVLlixJTExED6VIJBIMBqmTz4VgmqamaeFwWBTFO++885Zbbvnb3/727LPPfv/994yxYDCIUWf4OOitbqaQxsUSmAlorAjZgqIJghAOh1GwJctydXX18uXLly1blpCQgPgDTjzYejgPY/1SmjR4l1CAxWvgkCkdDocrKipGjx49fPjw1atXP/bYY4ii8v/FR4P/iuFLIM4b2qvGEovFgg5IcMBFe3wURQkEAg6H49SpU0uXLl26dKndbo/dSps33KGJ8IIsy36/PzEx8eTJk7qu33vvvaNHj16/fv2jjz567NgxaiUSZ5DGxR5IWzgcFgRBkiSchLquOxyOysrKFStWvPPOO/C+neESgrlBRtwvgj5UyDS0Wq0oBfH5fJIkTZo0afjw4YsXL547d+6hQ4fIsxl/0F41lmDWDGsYqWWxWCRJgsCJolhTU/Pee++9/vrriqIkJydHKxoVD50TsixrmoZZWcFgkM+1uP/++0eMGLFs2bJnn312165dGCpI14w4g+y4WAK3WvR2FVWTsizX1dUtWrSoqKjI4XBYrVZRFMPhcPT0dZK5swfNLFVVdbvdFouloqJCEIRJkyYNGzZswYIFzz//PIalhsNh7GfJmosnSONiCTfiIHCYTyzLclVV1apVq9566y2r1ZqUlGQYBvpbkK6dH2j0hko4tDkYP378zTffvHjx4tmzZ5eXl0PUrFYrCh6IeIL2qrEEpxb6XpimabPZFEWpqKh4//33X3nlFUVRPB4PwnnYav3kg9De6heBFYyW5Zqm3XzzzcOGDXvnnXeeffbZY8eOIXIKgYNLNNbrJRoTsuNiCcoYYJ1hArTP53v//ff/8pe/JCYmohYVu1fkOtBslPMDFfUnTpyw2WyDBw++++67i4qK5s6de/ToUTS8lGWZJ+vQRjXOoHMmliAPDmUMKBtat27dn//8Z6fTCfnj1ZSMsf+ruy9tYDkwafk0huixs7W1taIojhkzZuTIkW+++ebzzz9fW1uLtw6ZwOyfe8MRcQNpXCwJhUIYk6ppmmEYK1eufP31171eL6SNZ9jz0dHEzyPLciAQYIzZbDaLxQLTLBwOBwIBt9s9YsQIpIk888wzVVVVZBS3EOhjjiU2m03TNEVRwuHwkiVLli5digaN6IsJogWOTLafJxQKYYOPJF6Uo8JGGzZs2IgRI/7whz+88cYb1dXVdrud5jC0EEjjYgzmE7/77rtz584NBAJpaWmmadbX17OoYAKXNurw8/OEw2GbzWYYhq7r6Fru8/mCweDQoUPvvPPOv/zlL0VFRadPn0aWHM27aCGQxsWSSCSiadqGDRvWrVuXmZmZnp5eV1dnsVj+tcUF9xzFYpnNBkQPUF4KFEXp0qXLuHHjZs6c+cc//tHv97OGlGB6M1sIpHGxBPki11xzzbXXXutwOFA0jumo7J9LtXCb7LifB943SJssy2ialJCQsGTJknnz5sE6djqd9fX1fLwWEfeQxsUSQRBWr15dU1MD6wPdzNEPjo/mit6xUuThF0GaCFJ5nU7nNddcI8tyRUUFH4tRX1+PS4goitQSriVAGhdLTp06tXz58nfffZc19P9BseoZriKqUT1LMFaGD5fJzc1dtGjRZZddhkAEpp3xv1KubwuB9j6xRFEU3sYHNgV+PUPOuE1H/Dy8JgS/QtF4Fg4fWYtrBu1VWwikcQRBxDOkcQRBxDOkcQRBxDOkcQRBxDOkcQRBxDOkcQRBxDOkcQRBxDOkcUQcwgtCqPrtQjAMgydmIusQ/Q5wD8rmUB3MUzgxMpgxxtu64AD8L26YpsknC7OGnNAzjuQPeMZYWwy6RW7jWTY0pToHgiB+Glwh0Ma1rq5u06ZNlZWVmqa1bt36qquucjgcrKEHIp/PjXYvuq7b7XbDMFRVtdlsuORgdDdGniP7XZblYDCII/EIvMspftV1XVEUxlggEECPWJSsQArRPhaTJH/mVZDGEQTx0xiGIYqi1WotKSmZP3/+vn37GGOyLJ88eXLFihVPPvlkVlaWzWaDynCDDoUlKKoLhUKHDx/OyMjweDxWqzUYDKLrNR6H94jFTGFUZEMEoXoQQZ/PFwgEcnNzGWORSETXdavViqc7m4I80jiCIH4aWEzl5eULFiw4dOjQ7bff3rp1a4fDcezYsZdffnn69Om81BotDywWi6qqmBHMGDMM4/PPP//uu+/Gjh3rdDph3KmqClsPc4IgZ/gpiqLf73e73ayhTRZjzGq1vv766x6P5+GHH4YdB1vv7BvHksYRBPHTQD62b9/+8ccfFxYWDhs2DHZTp06d0tPTR48evXHjxksuuWTPnj2hUKhbt24Wi0WW5aNHj37xxRc33HDDyZMnFyxYcPr0aUEQ2rVrN2LEiC1btlgslkgksmLFimAwWFBQcPXVVzPGJElavXq11+vt27dvKBQyTXPv3r0+n69Lly47duxYtWpVRkaGoii9evXq1asXBgxZrVYs5hddruSRJQjip9E0ra6u7rvvvsvLy7vppptEUVRVFc2pcnNze/fuvWrVKpfL9fXXXz/33HPHjh2DRfbjjz++8sorhw4dQjDB5XLBMRcMBufPnz9mzJj169d37979V7/61cyZMxctWoT/mjVr1quvvoref3a7fdmyZfhVVVVVVa1Wq81mwwzJSCTCgyHYGv/8qyA7jiCIn8ZisZw4caKkpCQzM9Nut0ciEYvFYrFYsOvMyck5efJkXV1dbW1tVlYWdqwWi0VRlOrqalEUL7roossuu+zw4cP33HNPZmYmY6y+vt7pdM6YMYMxJghCWVnZn/70p169euXn51ut1szMzFAo5HA4NE0TRRHdTAcMGJCdnd2zZ8+JEyfy8SZ2u50xpus6OpL9vFeO7DiCIH4aDP1xuVzonAwV41GFSCQSDAZdLpfb7a6qqpIkCTHQYDDodrvhoUO3V0EQQqEQY8w0zdzcXDS8kmX58ssvhw+OMeZ0OsPhMAROURQ8tcViQW9nND1ljOFhWUOSytl0jSWNI4iWAhQHW0hN08rLy3fs2AHViB4YAvmAlMiy3KpVq9ra2vr6ekEQoG6MMb/ff/z48ZSUFMZYfX19SkpKKBQSBAECh6bWoVBIURRIoc1mw/PiBuwvu92Ox8R6YCoiR8RqtULXRFFEjgiQZRnHy7J8ltMjSeMIoqUgSRLilaqqRiKR2bNnjxgxYvXq1cikhYohdhkMBiEubre7c+fONTU1n3/+ua7roihi+O+xY8dKSkp69+5dV1en63ogELDZbEh2Ky8vh93ndDphvqF9P2NMUZTKykqIlCiKFRUVGNKE4U2hUAg5KIIgnDx5Ej2xI5FITU2N0+lkjCGBDndysf7F9BHyxxFESwH2WjgcrqqqWrhw4Zo1aw4ePDh58uT9+/ePHz8+KSkJ+lJbW+vxeCKRCBxwffv2/fDDD4uKikKhUI8ePerq6nbu3Pnpp59edNFF/fr1c7lcrVu3Xr16dUlJSVJSUklJyeeff44sNtM0HQ7HkSNH9u7d63a7nU6nw+HYtWvXhg0bOnXqVFdXt379+ksuuSQ1NVUQhPz8/P379+/evTsjI2PXrl2HDx9OTU212+2SJLVv3/7rr78+deqUJEmtWrXi5huegv3SjlV6+umn/xPvLvFTBAKBdevWlZSUsLPzLBBnCd7MxMTEESNGZGRkbN++/ZNPPuFlRo3+Voui2K1bt4KCgib+IWILqSjKt99+O3v27NLSUkmS/H7/rl27fD5ft27dULqAvFxRFPHXtLS0Tp06lZWVrVy5cv369Z999tmmTZs6d+587733ZmVlwdbz+XwbNmz45ptvdu/ebbfbExISrrrqqlatWpmmWVJSsm3btv3793fu3Hnbtm3V1dWCIBQXF2/ZskVRlFtvvbVjx46SJCUlJe3ateu7777bvHnzgQMH7HZ7Wlpaz549XS6X0+lct27dgQMH0tLSvF6v1WqFWGOf+4uznMiOI4iWgiiKuq6rqtq1a9epU6c+/vjjZWVlkiRVVla+8cYbLpfrkUcewa4wEAg4HI5wOIyM3Pz8/MmTJ5eWlvr9flEUFUXp0aMHnHG6rrdu3frBBx/ctm1bOBxu165d27Ztjx071q5dO0EQrrjiCq/Xu2/fPqfTmZKSUl5enpmZOXLkyOPHj9fW1nbr1i0nJwdRhcsvv9zpdP7973+XJCkvLy85Obmmpsbj8RiGUVBQkJaW9ve//93j8VgsFv5yznLICWkcQbQUYMc5HA5FUUaOHFlZWTljxgy4zDRNe+utt1q1anXHHXdgUwnHP2MMvv+srKysrCzUjaLaFL45VDWkpqYOGjQIRQ6iKCYnJ5umiUf+9a9/3bFjR3jQVFX1eDydO3fu3LkzEkTggENAtnPnzvn5+bhT13XsYevq6pD92717dxS68pw4JMr9ou1MGkcQLQWUTGmahhy3MWPGiKL44IMPMsYMwygrK5s5c6YkSaNHj/Z4PIg/oDiUMYYSemxmsT3kvrD6+npMQIeRhSHomBTMnxoaV11dXVNTg0oG1HVJkoT1MMaQHMcH1MHvhow82JWmaWqahiw8xE/Opq8MaRxBtBRQE8p7fiQkJEyePFmSpCeeeKKmpsZisVRUVEyfPj0QCIwZMyYpKQl2UygUQpEW/iu68B4GFw964vFxDNQKfUdYQ0HCwIEDbTaboihc2iBYeGSklaA4H6X+giAg6ooifKwHRh8SUPiL+plXTRpHEBcKatf5CHDGGM7zpta97oz1wBCbMGFCu3btpk6dun//fsaYz+d77LHH9u3bN3369DZt2jDGJEnCa8HLPONBopPU8CdoH36FwDHGYKlNnTqVHwypwr/jJ56CNQSFeFLIT2aH8OelWi6C+LcjiqLdbg+FQjt37hRFMRAIyLJssVjO6O8YcxRF8fv9mqalpaXBz4WNod1uHzly5HPPPed2u4PBoKqqb731liAITz/9dEpKCsSInV1xaBOENI4gLpRwOCxJ0s6dO++4445AIKCqKvzxZ5mI/x8DcVWk+KIPktPpDAQCaHzkcrlqamqwJdQ0raioqLCw0Ov14lXgfr4hjfVLOQea1mdAEM0RRVHQ4fbw4cMot5QkSVXVs0xu+I+BUKmmafDWi6JYVVUlCEJ1dTXPMoO3DplrCQkJMOJQ28CjmaRxBNGyME2ztrY2MzNz8uTJKFYPh8PIcoj10v4J3l0SxaQo+bTb7atWrdq9ezcKQm02WygUuvvuu2fMmOH1emGQsqjE6Sae5/yvkMYRxIWCUEPbtm2nTp2KOGA4HMYGMNZL+yew03Q6nRUVFVar1ePxVFZWbtiwobKyEklqiJ/OnDlz1KhRKSkpXBNhuCHo2dQ24L9IM1suQTRBeM5ESkoK8mx/scAoJkCkwuFwdna2KIqhUGjJkiVz5849deoUd9W98MILw4cPT0pK4mO0mjukcQRxofBK2OidXRP0zfOMFnT0nTNnzpw5cyoqKvCnxMTEZ5555q677kJ+L8SaMYbbPCOkCb6un4c0rjHBx4/cRXxRUDOMP+Hyzho8GrztH9Hc4Z8si0rmaoJCgNIrURRra2uXL18+b948CJwkSXa7vbCwEL12NU1DR0z8F7/BBwPGav3nRzNbbhNHEASkEUDaePt5fg3EMZqmoUtXbFdLtDQQ7WWMffPNN6+//np5ebksy5Ikeb3e8ePH33fffdifKorS1DL7LgTSuMaEe2exYcG1HR4QDBjnSfBNLeJGtATQD44xlpOT079/f4RKsrKyxo0b9+KLLzocDlyeVVWNJ5mjvWpjgtmR+HIgschqtcKVC/lD30GUE8eHQ5doRqCJLqZqPfnkk6ZpfvHFF3ffffett96K7ySq6/EdPpvxzM0C0rjGxGKx1NXVYdiaYRh+v7+ioqJNmzaCIED+sFmAt67Z+TWIOECWZTQ18ng8kydPvu666wYMGIA/aZrmcDgEQeBNPmK71MaCTrPGBD0YEHkQBGH+/PmFhYVo8wvjH1lIPBBBEP9JeNAA1fU5OTkQOIx3iDblzqYvW3OBNK4xgesNO4KioqJZs2atXbu2sLBw+/btaAuD+EMzrW0mmjuCIJw+fRqbCXwD0cqN+1KqqqrQKAkO5fiAzrRGxmazCYIwd+7c559/HiOLtmzZ8sQTT+zdu5dPeIunLxDRjNB1PSUlxTAMq9WKACt6H2EKl2EYGFvD4issds4ad/To0e+//z465oJYIS9bwZ+iA4u4zYfoAPQFZYwh4MgaOhdzTzwXAp5HhiLnJp5+jddy+eWXX3TRRYwxTM/96KOPJk+e/Omnn0b7cbFvRQl3o5h1PEMFm47oJlywItk/5zpFL4YX6PAb/N+56/CMf+FjLnEkbAHW0CmM38MXAKKzrqKbhfE7ox+BaFx4mzYW9SbzsfPRHwf//sQB53ZqRSKRP//5z7fddtvx48chSWiVhTYyoVAIHQuCwSDmULCGtjM4AK2KIW3wWMFUFkURcZwTJ06cOnWKD91hjAWDQYzhQSdl3i8BAcp/xztyIWDGraqqvXr1+vDDD4cPH44FG4bx0UcfFRYWvv/++7quo2ybjxCPlv7z+2JBO3hiOmvITecTf3FtYIxhRi8Kj/C8vKuqxWJBzwnGGFJAsU78L7702GuLoogPhbeE5I/MGoLLLOqaxNv2463gK+SvF+cYa3AVRZsYBHGBnFtcFV9udElGd1CbzVZTU6Oqal1dXWJiImxdu92OE8Dn89XX1yuK4vF4cN0WRbG+vh6NaNAmFP0PFEU5evToa6+91rt37969eycmJuI84VceNITBT5ylZ6hDUwArxMpFUXzttdcYY0uXLkVL6O+///6ZZ54RBGHo0KEIXUE7+B72vIG64aqDe3hnfX4PCi3Qzh/rxP3QOwzE5L2wcX3is91gckKwLBZLOBxGXw0+Sj1asiFSuMFbDEHL8ErxmXIxNQwjGAxCQ7E2HICJJwRxgZybxqH/VEJCQiAQcLlc+/btO3LkiK7r69atq6+vz8vLGzFiRF5eXk1NTXFxcWZm5vHjxz/88ENJkm666aZrrrkG29V33nnn6quv7ty5M2PM7/evXLmyW7duF1988apVq9asWVNWVrZr166BAwf27NkTKdcw4nCe4HRijMEwbILmNGwZtMD3eDzz58+vqan54IMPIGc//PDD66+/LstyQUEBumNz0+YCXwveHwR2UVzB7VyejpeTk5OZmXno0KGKigpY3IZhIEjCcz7Rgx//ZbVakb0sCILb7c7Nza2trS0rK4P5xlUSuQjot8FXwqIKG/lGFQ8LNcSFCl8JHIbj8bbwYrgLeU8Igp1Hflw4HA4EAm632zTNH3744cUXX+zdu3ePHj0CgcDatWurqqpmz55tGMby5csrKipuvPHGSy+99OjRo6+88kokEikoKCgvL3/11VfT0tLy8vIsFsvp06fffvvtQCBw0UUXwaxLSkryer04/fiuFpMveDkxO+vRiv9hsE0Lh8N8nxWJRF566SWLxbJhwwZ0kd60aZPVavV6vX369IFthSNxSp/fiQ1pgHAUFBQkJCRgxkcwGDx48GBJScmJEydatWp11113DRkyZMWKFc8++yz8Bhgch/0139vyNQQCAcaYoiiyLA8aNGjKlClfffXVtGnTAoEAFC0SibhcrkAgAHk1DKN79+49e/a02+3Qu9OnT+/du3f//v319fVQNy7l3D8LJbXZbPiU8aRN2eVKNC/OZ68Krw0mjCmKMnz48N/+9reCIDgcjpUrV1ZWVtpsNhTBjR07NjU1taam5oknnnjzzTf79euH/Amr1YrTCemyNpvNbrcPGTJk3bp111133aBBg3DSYniPoijYEX/wwQd8GbjR1JTOMAy73a7rus/nw2VAVdXk5OQrrrhiy5YtPp8POv7RRx9htOVvfvObxurGBZMwOzu7sLCwc+fOwWAQm8Hy8vK1a9fOmjUrFAqlpaV17Nhx9erV8N8h2oPBS4wxl8tVV1eHFth4TMxAwkMlJyfn5eWVlZWlpqbW1tbyY+rr67k0S5J0ww03PPbYYzab7dixY1arNRAI7N27d8GCBatXrw6HwzDcuIWINfP7uQnJ2xOBRnl/iBbLuZ1gCDJg82i32yVJatu2bY8ePZA62L59e5fLhUliuq63a9cuOTmZMZaQkNCjR48NGzaoqur3+5OSkmBBmKZZX1/PGEODeUmSIPcvXDQAABOkSURBVHl4Lny5caQoigcPHnzhhRf8fj/MDTh6+DSNJgJ6cjkcDphFsID8fr/D4airq4MJAztlz549Tz75ZHFxcaNUzOBNw8bT4XCUlZUtWLBg79693bp1u+2228aMGfPee++VlpbiMIfDAS9b9+7d27dv36FDh5qamu+///7LL7/krrQuXbp07NgxNTVVVdUdO3bs3bsX+fH49HVd79q1a3Z2ttVq/fjjj/1+PyIY+Hqoqvrxxx8vXrzY4/Fcf/3111133YkTJ7Zu3Xr48GFRFPv06dOlSxdd1/fv37979+7Tp0/bbLb+/fuHw+HS0tLDhw8nJSV16NChVatWBw8e3Lt3L+1YiQvknO04m80GiQkEArquu91uVVVlWXY6naqq1tfXQ5XQUxTRVavVCqMG3qJQKMSjjU6n026347RHyxd+zmMQNxzz4MiRI8FgkG/KmmbNMM5JNOpiDeqDGAs3TyCFV199NXdFXbhjEfYX5KCioqK4uHj79u2bN2/u27fvFVdcgWUoioJPLRKJtG3btrCw8PLLL09ISKivrz9+/Phbb731pz/9SZKk7t27T5069corr0RK87fffnv33Xf7/X6EIzRNa9eu3ezZs9u0aVNcXLxp0ybWkPcDx5/NZvvxxx+XLVvGGLPZbNdcc43T6YStd8cdd0yYMCE3NzcQCGia9te//nXevHmVlZWjR4/u1q3bxx9//PDDD+fm5s6cObN169aPPPLI3r17+Vt6ge8P0WI5ZzsOjv9AIJCRkYESEEEQEMXDSG1sMDVNq6ysREYCYwzXcPwJzQ/gXKurq/P7/TabDRFAWZaRlICDcdpABVJTUxcuXFhZWQkXEkS2qSVSwbWP+KDH4zl9+rTT6XS5XO+99x7Oee5lv+eee6ZNm2axWGDJ8nP4vP1QPCIZDoezsrJGjBjRq1evyy67LDc3t7i4+Mcff7Tb7XV1dXj3BEH48ccft2zZ8tVXX3377be//e1vZ86cOWTIkM2bN//www933XXX4MGDt2/f/v7773u9XtM0q6qqYDhXVVWpqvrcc8/169dv5cqVc+bMqampwbIhf3BB/OpXv5o0aZLD4SgoKNA0bcuWLX6/v1OnTk899VRycvLChQurq6tHjhx53333HTt2rKioqKioaMWKFYMHD16+fPm1117bt2/fOXPmbN++neeXkMwR5825aRxcy6FQyOVy8YnWSDWwWCyYY4Z51y6Xa+fOnbt27erSpUt1dfX69euHDBmSmJhYVlYmiuK2bdtuvPHGcDj84YcflpaWIrkkFArV19cfPHhwwIABoVAIbntVVZGWnZOTk5aWBgMQTx3twG4iwNWIQhlN02C//PDDDzt37sSJqqqq3W4fO3bs008/nZSUVF1d3SjPy68fwWBQUZTs7Ozx48cbhuFwOEKh0FtvvVVVVeX1eu12u9VqxX6fMbZo0SJM2/T5fI888kh2dnZ6erqu6506dVJV9eGHH/7mm28SEhKQ0ogUE5/PN3jw4IEDBxYXF48bNw4zOqOjw3jk6667rlevXhhosHXr1o0bN1ZXVz/00EPp6ekbN258/PHHVVU9derUc889N2DAgA0bNnz66aeLFi2aOHHimjVrBEHYs2fP+vXrT506hVdH6kZcCOesccFgELtObE8URamvr2/VqhVjrLq6GtulSCRSX1+fmpo6b948wzC+/fbbrKysBx98UNO0nJycKVOmzJkzZ8+ePQkJCXa7vVOnTuFwuKamxul0Dh069OWXXy4tLS0oKOjVq5fdbucWIoby8us5ooFN7dsPuYc6Y6nbtm0bNGgQuq0yxjwez+jRo5988km8Y40F9u9waMqyfPTo0eLi4n379nXp0mXAgAGvvvrqoUOHSktLQ6GQYRgulwsRoTFjxowdOzYnJ6e+vj4xMfHQoUPhcLht27ZpaWl79uw5evQoYwwqzJO0b7/9dpfLxRh74okn6urqGGOwwYWGVlG4CH311VfLli1zuVyDBw/u27fvuHHjnnnmmfbt2wuCcPjw4aqqKsMwTp48WVVVlZubi8yVJ598csCAATk5OaZpLlu27IsvvohOMCaI8+acg3r33Xff4MGDvV6vIAgDBw68+OKLW7VqBdfY9ddf36VLF5fLhcrezp0733LLLZ999tngwYP79OmTmJiITdztt9+en5+/e/dum80Gn5Tdbk9ISBAE4bbbbmvXrt3x48dtNhtqg/1+v9vt5lNsecABYbimtldFmBJJG4ZhFBcXT548uaKiAkaQy+UaPnz49OnT09PTkQPcWM9rt9uDwSDGQfl8vsrKyvnz53/11VeMsb/97W/9+vUbMGDAgQMHsJOFrffaa68NGTKktLT0sccei0Qi//Vf/4UoeTAYRPIjTwaGLwKVD4ZhbN68+ZJLLvnDH/7wwAMPlJSUwJcanfgSCoU2bdr0xhtvaJr2/fffP//88717987Ozq6qqtI0DWElzH+y2WwnTpxwu92apvXp08fhcCCskZub26ZNmyNHjvxrEUhTu6oRTZ9z0zhVVdPT07GjQdpnbm4ua2gcJAhChw4dwuGwLMvl5eUej6djx46dOnXC99KMGlLbu3fvXr168eaRCMlFIhGn03n99dfDH4dcM4fDAZsRjiQsg6fCN7VvPJzumqapqrpmzZqHHnqoqqoKQUyv1ztq1KgpU6ZkZWUh9tqIzxsMBllDqgfkqWvXrna7PS0tLTEx0eFw7N+/HztK5OtkZmbCc/rUU09t2bLluuuus9ls8Azu27fv9OnTV111VUFBwbp165KTk71e75dffgnt3r59+8SJEx999NEJEyY8++yzDz300OHDh8/4XERR7NChQ9euXZ1OZ58+fTIyMkpKSmpra7du3TphwoSePXv26dPH7/dfddVVXq/3r3/969GjR9u1azdr1iyLxTJv3rz09PRhw4bt37//1Vdfjd7/8jrKpvahE02cc9M4i8XCv2HQONaQzMkre6xWa319vdvtVhQFFY4Ileq6Hg6H7XY7ssZ4dII1nBuIOQYCAURvcVLBZLNarXhS7htiUdXjTQdBECDxn3766ZQpU3w+H9xVCQkJo0aNevTRR9PS0syGSQ6NGBfG+c/702VmZj711FN+vz8jI8Plcn322Wfbtm1DHiKy4crKyqqqqgKBwNSpU7du3dqzZ8+amhqPxxOJRGpra7dt29a1a9c5c+bceOONbrebMTZq1CjUCMM+ffnll/v27XvllVeOGzdu3rx5J06cYA3qg8DRoEGD8vPzPR6P2+2urq5eu3bt8ePH16xZ8+GHH/7ud7/7n//5n6qqqu7du+/evXvt2rU+n2/atGmZmZkbN258+umn+/fvf+211xYUFGzduvXrr79mUVcyEjjiPDjnuCqvqUKiPHZhjDEk68JVJ4ri6NGjsSuBFQOfCy/MQgooisC5CGL7Br+b2dCwBF581jBSiNdvaZoGJ13jvyUXgKqq2NN5vd5LL71048aNwWDQ5XIhipqYmMgPYA1VX40CSggYY6FQ6P33309NTXU6nX6/3zCMffv2ffDBB4cOHXK73Z9//rmu67t37w6Hw0VFRT6fr0ePHnl5efPnzxdFsU2bNhUVFbW1tfPnzw8Gg5dcconH4zl58uTOnTurqqq+++67pUuX7tmzJxQKHT9+fPr06SNGjHC5XF6vt7y8nK+hpKRk6dKl/KOprq7euXPnxx9/DHGcMmVKaWlpXl6e1+tdsGDBJ5988vnnnycmJkqStGrVqnfffTcYDG7evPmll17q2bNnTk7O9u3bm2DnBaKZYZ47yDXlv4bDYWR+QOBwJ9JKcBtSFf1f/GCYHnBg4Ug4dKIPw534iexiPL7Z0Gep6YAlIfV/y5Ytl19+udPpnDZtGlxRePl4pXjhFRUVt9xyCz6IC48Rw4OWnJyMutSMjIz09HRcGKCnycnJ2dnZLpcLQd62bdvm5+d37dqVMYaNLXygvDr10ksvvfjii9H/2uPx5OTkpKSkYD/OGMvOzs7Ozk5MTIzu2JOYmNiqVavWrVtnZmamp6fDzcoY464G1Et069YtOztbkiSLxWKxWLKzszMzM1lDOyY8F0r6omvdeNHrL4LD2rRps2PHDsMw5s6dC4O0sd7qM5Ak6a677sIXgGhqnI8dxBPiQPRt/o2MNlJ46VV0y6rog1lDIx0cyXemQtQ8R/w84/GbWu6IaZqCIKCc6ze/+c3s2bN37NgxatQor9fLj8Er/XdYoNDZysrKysrKnzzgjPt//PFHfjsYDMKph1fh9/v9fv/Bgwf5AbW1tbW1tdH/jsBr9LMzxpAu969wc+yM5eF+/lCo5frX52JNz/dKNBea1l4vDjAaGgcIgtC7d+8OHTqkpKTEelEE0XKhXueNCZziZkPXT1EU09PTyQAhiBhCGteYIDCCXZskSejYETdzKgmiOUIa15hA3VBtJoqi3W5vapFfgmhpkMY1Jny6oNAwCcE0Td5qjSCI/zykcY0MH1OAMvUzYtAEQfyHIY1rTHhJBnrkwTdnUNtugogd5C1qTLj3jc9zaJTBqUSTBRmayHLnt1nDaM0YL45gjJHGEcQ5wWsteBo9YwwjRxBDRxjdaIxZa0SjQFYGQZwD0UVC/E50t+YHsKguO0TMITuOIM4WnuMdfQ9aVGBMHf8rCVzTgew4gjhbuJeNl+vh/uiBjVA93vydiDmkcQRxthgNc80B37RiLq2u6xA4o6EFWQyXSnBor0oQZwsXOL4nRf/E9u3bX3XVVfxPvC9DzBZKREEaRxBnyxmmmSAIVqvVZrPdddddt956K7qERjfiJ1OuKUAaRxA/Ae+rjlyQM9oRQ78EQWjXrt0DDzwwYcIE3B/df4EErolAGkcQZxIdMeA5vbIsq6qqKAoaLkiSdMkll0yaNGnYsGExXSzxC5DGEcSZcI3DqHK42FRVtdlsmG6uqupll102Y8aMq6++mretJpom5BYliDM5I8cNuSCMsVAoZLFYQqFQ165dCwsL+/XrhxHasVwr8UuQHUcQZ4KGMayhiwx2puiwoKpq9+7dp06desMNN+CeRpyvRvw7II0jiDMxTZOPc8TYXz4IuGfPntOnT7/xxhshbYZhYPca4xUT/zekcQTxE8COQ/u/UCjEGPN4PPn5+bNnz+7VqxeyQ8LhMHJHYrxW4mchjSOIn4A3F8E8X5fL9etf/3rhwoVt2rSxWCxoC4hoAzJ+Y71e4v+ENI5o0SiKYhgGtqU8Jw4JIrgHf8rLy3v77bfz8vLwX9GiRgLXxKGPh2i5YLpQdH4v8uA0TTNN02azIYnkmmuumTt3bvv27WO4VOK8IY0jWjSoWEB9AvLgIHlww5mmeeWVVz7yyCPdu3en+GkzhfaqREsnuugKhhsvaejbt+8LL7zQoUMH5P3S+KHmCGkc0XKB9433Jedtyg3DsNlsQ4cOnTZtWn5+Piw4ErhmCmkc0XIxTTO6bAtRVMaYYRg33XTT7Nmzs7KysHtFYIHK7JsjpHFEi4aPwRUEAYm+KSkpPXr0eOqpp7KysnAMt+9I45ojpHFEiyZ6yBZjzO125+XlzZkzJz8/H3eiry+jHJFmC31sRPwjiqKmaTwwKssyd65pmgZPnGmasixfccUVS5Ys6dixI2soxcdPErjmC9lxRPwDhxpkThTFcDiM+wVBUBQFkwOTkpJuv/32iRMnpqenx3a1RONCGkfEP6IoWq3WQCAQiURkWebWmaZpED6XyzV+/PjCwsLk5ORYL5ZoZMgCJ+IfpIOwhtoshEo1TbPZbGgxcsstt0yaNCk5OTkUCtHMwDiDNI6IfyRJwv7UarUitiDLsizL4XDY4XCMHDly8uTJmZmZ4XAYqhfr9RKNCe1VifhHaABKh+a9kUhEkqSxY8dOnTq1bdu26CNiGEb03BkiDiCNI+IfVVVFUVQUBdPsI5FIJBLJyMi4+eabH3/88dTU1GAwiGotNIYj4gn6RIn4x263G4ah6zq6k2ualp2dPWXKlMmTJzPGdF232+2maSKhhPrBxRmkcTGGe7ixRUItEXHe8Jxe/Iok3nA4jLAD3HAWi+Wee+558MEHcQxsN17DQAIXZ5DGxRKr1SpJUvR4FMaYzWbjCVzEOSGKIvojodslBE7XdUVRnE5nOBw2TdNqtU6cOHHGjBnRWcFEHEMaF0vC4TDaMaI1I3IaVFWl0N75EYlEcMGA6w3ZcIwxXdcxkyEhIeH++++fMWMGhC/GyyX+I5DGxRJJkmDKYVCxJEm8RDzWS2uWyLIsCIKqqvAAoDwLDUUsFktiYuIDDzwwbtw49L/kFjQR35DGxRJd1zEShTWMR2HUwOcCiB7nDL+bruuqqoZCoZSUlIcffvj3v/89EkRomFbLgTQultjtdtYQyIM1ByOOUu3PD0x65sO0VFWtq6tjjGVkZEybNm3YsGEejwdHwm1HqXAtAdK4WFJVVYW+F4j68RYX5I87P3CRwBsoy7LT6TRNU1GUQYMGOZ1OVDug1IGM5ZYDaVwsycrKuummm7p27WqxWDRNQ9YC0rhivbRmCa4Wsizruo7hp+3btzcMw+VyMcZQycDjEvQmtxAEMhkIgohjKN2RIIh4hjSOIIh4hjSOIIh4hjSOIIh4hjSOIIh4hjSOIIh4hjSOIIh4hjSOIIh4hjSOIIh4hjSOIIh4hjSOIIh4hjSOIIh4hjSOIIh4hjSOIIh4hjSOIIh4hjSOIIh4hjSOIIh45v8BXx8WPIzU0hwAAAAASUVORK5CYII=\">"
      ]
    },
    {
      "cell_type": "code",
      "execution_count": null,
      "metadata": {
        "id": "Li75LVb6PxGb"
      },
      "outputs": [],
      "source": [
        "import matplotlib.pyplot as plt\n",
        "import seaborn as sns; sns.set()\n",
        "import numpy as np"
      ]
    },
    {
      "cell_type": "code",
      "execution_count": null,
      "metadata": {
        "colab": {
          "base_uri": "https://localhost:8080/",
          "height": 451
        },
        "id": "hVCGw3oiNoAe",
        "outputId": "7fccb1f6-f6f8-4ab0-f362-6c50a7fce1f0"
      },
      "outputs": [],
      "source": [
        "rng = np.random.RandomState(1)\n",
        "N = 500\n",
        "x = 10 * rng.rand(N)\n",
        "\n",
        "y = np.sin(x) + np.log(x) + (0.5 * rng.randn(N))   # SECRET FUNCTION\n",
        "\n",
        "plt.scatter(x, y)"
      ]
    },
    {
      "attachments": {},
      "cell_type": "markdown",
      "metadata": {
        "id": "BhN3u-B0bbOK"
      },
      "source": [
        "### Linear Regression"
      ]
    },
    {
      "cell_type": "code",
      "execution_count": null,
      "metadata": {
        "colab": {
          "base_uri": "https://localhost:8080/",
          "height": 74
        },
        "id": "7Zx79Hs2Z31L",
        "outputId": "94a1f4fc-ce09-4ff1-8ab7-37e34807c1ac"
      },
      "outputs": [],
      "source": [
        "from sklearn.linear_model import LinearRegression\n",
        "model = LinearRegression(fit_intercept=True)\n",
        "X = x.reshape(-1, 1)\n",
        "model.fit(X, y)"
      ]
    },
    {
      "cell_type": "code",
      "execution_count": null,
      "metadata": {
        "colab": {
          "base_uri": "https://localhost:8080/",
          "height": 492
        },
        "id": "GeVfZ9ko2I_S",
        "outputId": "e8a53457-51c7-4c3f-c4e7-44f63fc2f846"
      },
      "outputs": [],
      "source": [
        "xfit = np.linspace(0, 10, 1000).reshape(-1,1)\n",
        "yfit = model.predict(xfit)\n",
        "\n",
        "plt.scatter(x, y)\n",
        "plt.plot(xfit, yfit, color='red');\n",
        "plt.title(f'Mean Squared Error: {((y-model.predict(X))**2).mean():.4f}')\n",
        "\n",
        "print(\"Model slope:    \", model.coef_[0])\n",
        "print(\"Model intercept:\", model.intercept_)\n",
        "\n",
        "plt.show()"
      ]
    },
    {
      "attachments": {},
      "cell_type": "markdown",
      "metadata": {
        "id": "JvuxzdY0d30T"
      },
      "source": [
        "The idea is to take our multidimensional linear model:\n",
        "$$\n",
        "y = a_0 + a_1 x_1 + a_2 x_2 + a_3 x_3 + \\cdots\n",
        "$$\n",
        "and build the $x_1, x_2, x_3,$ and so on, from our single-dimensional input $x$.\n",
        "That is, we let $x_n = f_n(x)$, where $f_n()$ is some function that transforms our data.\n",
        "\n",
        "For example, if $f_n(x) = x^n$, our model becomes a polynomial regression:\n",
        "$$\n",
        "y = a_0 + a_1 x + a_2 x^2 + a_3 x^3 + \\cdots\n",
        "$$"
      ]
    },
    {
      "cell_type": "code",
      "execution_count": null,
      "metadata": {
        "colab": {
          "base_uri": "https://localhost:8080/"
        },
        "id": "icvrJwIfeGx8",
        "outputId": "9ab3e05d-14e9-4ff9-f9e1-c2800dba6e5d"
      },
      "outputs": [],
      "source": [
        "from sklearn.preprocessing import PolynomialFeatures\n",
        "poly = PolynomialFeatures(15, include_bias=False)\n",
        "Xp = poly.fit_transform(x[:, None])\n",
        "model = LinearRegression(fit_intercept=True)\n",
        "model.fit(Xp, y)\n",
        "print(list(zip(x[:3], y[:3])))"
      ]
    },
    {
      "cell_type": "code",
      "execution_count": null,
      "metadata": {
        "colab": {
          "base_uri": "https://localhost:8080/",
          "height": 494
        },
        "id": "mG0KRJa3gct0",
        "outputId": "3f900309-8e0e-4f27-8ada-a0af198235f0"
      },
      "outputs": [],
      "source": [
        "xfit = np.linspace(0, 10, 1000).reshape(-1,1)\n",
        "xfit_p = poly.transform(xfit)\n",
        "yfit = model.predict(xfit_p)\n",
        "\n",
        "plt.scatter(x, y)\n",
        "plt.plot(xfit, yfit, color='red');\n",
        "plt.title(f'Mean Squared Error: {((y-model.predict(Xp))**2).mean():.4f}')\n",
        "plt.xlim(left=-1, right=11)\n",
        "print('y =',  ' + '.join([f'{model.intercept_:.2f}'] + [f'{c:.3f}·x**{i+1}' for i, c  in enumerate(model.coef_)] ))"
      ]
    },
    {
      "attachments": {},
      "cell_type": "markdown",
      "metadata": {
        "id": "aEvXgObLhZbf"
      },
      "source": [
        "### Control overfitting"
      ]
    },
    {
      "attachments": {},
      "cell_type": "markdown",
      "metadata": {
        "id": "CVuFQ2JsiirN"
      },
      "source": [
        "### Ridge Regression ($L_2 Regularization$)\n",
        "$L_2$ *regularization*, sometimes also called *Tikhonov regularization*.\n",
        "This proceeds by penalizing the sum of squares (2-norms) of the model coefficients; in this case, the penalty on the model fit would be \n",
        "$$\n",
        "P = \\alpha\\sum_{n=1}^N \\theta_n^2\n",
        "$$"
      ]
    },
    {
      "cell_type": "code",
      "execution_count": null,
      "metadata": {
        "colab": {
          "base_uri": "https://localhost:8080/",
          "height": 74
        },
        "id": "ZVJCmaqnbiWL",
        "outputId": "20d41600-2911-4d9e-c5af-016444ca9def"
      },
      "outputs": [],
      "source": [
        "from sklearn.linear_model import Ridge\n",
        "model = Ridge(alpha=2.0)\n",
        "model.fit(Xp, y)"
      ]
    },
    {
      "cell_type": "code",
      "execution_count": null,
      "metadata": {
        "colab": {
          "base_uri": "https://localhost:8080/",
          "height": 494
        },
        "id": "fSD_C5172I_V",
        "outputId": "0dc5b99d-4d6a-4c74-ee90-157ae06b6060"
      },
      "outputs": [],
      "source": [
        "xfit = np.linspace(0, 10, 1000).reshape(-1,1)\n",
        "xfit_p = poly.transform(xfit)\n",
        "yfit = model.predict(xfit_p)\n",
        "plt.scatter(x, y)\n",
        "plt.plot(xfit, yfit, color='red');\n",
        "plt.title(f'Mean Absolute Error: {((y-model.predict(Xp))**2).mean():.4f}')\n",
        "plt.xlim(left=-1, right=11)\n",
        "print('y =',  [f'{c:.2f} x**{i} +' for i, c  in enumerate(model.coef_)] )"
      ]
    },
    {
      "attachments": {},
      "cell_type": "markdown",
      "metadata": {
        "id": "ieKCFqvJjjjl"
      },
      "source": [
        "### Neural Networks"
      ]
    },
    {
      "cell_type": "code",
      "execution_count": null,
      "metadata": {
        "colab": {
          "base_uri": "https://localhost:8080/"
        },
        "id": "d3mqXvgSbl42",
        "outputId": "287b5884-5db1-40d8-a765-4459a5090cf5"
      },
      "outputs": [],
      "source": [
        "from tensorflow import keras\n",
        "from tensorflow.keras import layers\n",
        "\n",
        "\n",
        "model = keras.Sequential([\n",
        "    keras.layers.Dense(16, activation=\"relu\", input_shape=(1,)),\n",
        "    keras.layers.Dense(8, activation=\"relu\"),\n",
        "    keras.layers.Dense(1, activation=\"linear\"),\n",
        "])\n",
        "model.summary()"
      ]
    },
    {
      "cell_type": "code",
      "execution_count": null,
      "metadata": {
        "colab": {
          "base_uri": "https://localhost:8080/"
        },
        "id": "g-qZLuvRkhBV",
        "outputId": "1ba4a0a8-3e80-4d78-fe35-d714f5e26ed3"
      },
      "outputs": [],
      "source": [
        "model.compile(optimizer=keras.optimizers.Adam(0.005), \n",
        "              loss=\"mse\", metrics=['mse'],)\n",
        "model.fit(X,y, batch_size=32, epochs=500,)"
      ]
    },
    {
      "cell_type": "code",
      "execution_count": null,
      "metadata": {
        "colab": {
          "base_uri": "https://localhost:8080/",
          "height": 492
        },
        "id": "BbgUcDZolD6D",
        "outputId": "90a23d0b-c49f-43ec-9b96-2a6c4fbed52e"
      },
      "outputs": [],
      "source": [
        "xfit = np.linspace(0, 10, 1000).reshape(-1,1)\n",
        "yfit = model.predict(xfit)\n",
        "plt.scatter(x, y)\n",
        "plt.plot(xfit, yfit, color='red');\n",
        "plt.title(f'Mean Squared Error: {((y-model.predict(X).squeeze())**2).mean():.4f}')\n",
        "plt.xlim(left=-1, right=11);"
      ]
    },
    {
      "attachments": {},
      "cell_type": "markdown",
      "metadata": {
        "id": "JSGOz1-pmnfc"
      },
      "source": [
        "## Neural Networks + Polynomial features"
      ]
    },
    {
      "cell_type": "code",
      "execution_count": null,
      "metadata": {
        "colab": {
          "base_uri": "https://localhost:8080/"
        },
        "id": "EByPwQTlmBxy",
        "outputId": "cb828b6e-c2bf-4c9d-9c22-e78ea429ba69"
      },
      "outputs": [],
      "source": [
        "poly = PolynomialFeatures(3, include_bias=False)\n",
        "Xp = poly.fit_transform(X)\n",
        "\n",
        "model = keras.Sequential([\n",
        "    keras.layers.Dense(16, activation=\"relu\", input_shape=(3,)),\n",
        "    keras.layers.Dense(8, activation=\"relu\",),\n",
        "    keras.layers.Dense(1, activation=\"linear\"),\n",
        "])\n",
        "\n",
        "model.compile(optimizer=keras.optimizers.Adam(0.0025), \n",
        "              loss=\"mse\", metrics=['mse']\n",
        "              )\n",
        "model.fit(Xp, y, batch_size=16, epochs=500)\n",
        "\n"
      ]
    },
    {
      "cell_type": "code",
      "execution_count": null,
      "metadata": {
        "colab": {
          "base_uri": "https://localhost:8080/",
          "height": 509
        },
        "id": "GjRsG03EqAek",
        "outputId": "3fcd67da-9382-496e-e83e-0e4acbe37ed4"
      },
      "outputs": [],
      "source": [
        "xfit = np.linspace(0, 10, 1000).reshape(-1,1)\n",
        "xfit_p = poly.transform(xfit)\n",
        "yfit = model.predict(xfit_p)\n",
        "plt.scatter(x, y)\n",
        "plt.plot(xfit, yfit, color='red');\n",
        "plt.title(f'Mean Squared Error: {((y-model.predict(Xp).squeeze())**2).mean():.4f}')\n",
        "plt.xlim(left=-1, right=11)"
      ]
    }
  ],
  "metadata": {
    "colab": {
      "provenance": []
    },
    "kernelspec": {
      "display_name": "Python 3",
      "name": "python3"
    },
    "language_info": {
      "name": "python"
    }
  },
  "nbformat": 4,
  "nbformat_minor": 0
}
